{
 "cells": [
  {
   "cell_type": "code",
   "execution_count": 1,
   "id": "2443ac61-9edc-4547-8a71-adeb10661afe",
   "metadata": {},
   "outputs": [],
   "source": [
    "a= 10"
   ]
  },
  {
   "cell_type": "code",
   "execution_count": 2,
   "id": "1f36fa61-ff27-4232-a9fa-1c255955f39b",
   "metadata": {},
   "outputs": [
    {
     "data": {
      "text/plain": [
       "10"
      ]
     },
     "execution_count": 2,
     "metadata": {},
     "output_type": "execute_result"
    }
   ],
   "source": [
    "a"
   ]
  },
  {
   "cell_type": "code",
   "execution_count": 3,
   "id": "d89554f1-5001-4b63-9bdf-576363315554",
   "metadata": {},
   "outputs": [],
   "source": [
    "a='c'"
   ]
  },
  {
   "cell_type": "code",
   "execution_count": 4,
   "id": "ea92121f-f7b9-483e-904e-71d181b7d732",
   "metadata": {},
   "outputs": [
    {
     "data": {
      "text/plain": [
       "str"
      ]
     },
     "execution_count": 4,
     "metadata": {},
     "output_type": "execute_result"
    }
   ],
   "source": [
    "type(a)"
   ]
  },
  {
   "cell_type": "code",
   "execution_count": 5,
   "id": "3a533b51-1ec6-4fa7-a367-b97d87dc4d6e",
   "metadata": {},
   "outputs": [
    {
     "data": {
      "text/plain": [
       "int"
      ]
     },
     "execution_count": 5,
     "metadata": {},
     "output_type": "execute_result"
    }
   ],
   "source": [
    "int\n"
   ]
  },
  {
   "cell_type": "code",
   "execution_count": 6,
   "id": "06dbe52a-f070-40a8-b79a-13af1445f897",
   "metadata": {},
   "outputs": [
    {
     "data": {
      "text/plain": [
       "1234"
      ]
     },
     "execution_count": 6,
     "metadata": {},
     "output_type": "execute_result"
    }
   ],
   "source": [
    "int('1234')\n"
   ]
  },
  {
   "cell_type": "code",
   "execution_count": 8,
   "id": "668cecf6-85af-43c3-a432-d90bd62e2406",
   "metadata": {},
   "outputs": [
    {
     "name": "stdout",
     "output_type": "stream",
     "text": [
      "\n"
     ]
    }
   ],
   "source": [
    "print()"
   ]
  },
  {
   "cell_type": "code",
   "execution_count": 9,
   "id": "8c232792-c01a-4e34-bcc8-cf6a68ce288e",
   "metadata": {},
   "outputs": [
    {
     "name": "stdout",
     "output_type": "stream",
     "text": [
      "c\n"
     ]
    }
   ],
   "source": [
    "print(a)"
   ]
  },
  {
   "cell_type": "code",
   "execution_count": 10,
   "id": "e392b0df-02e5-438f-96ac-ffa82f21916a",
   "metadata": {},
   "outputs": [
    {
     "name": "stdout",
     "output_type": "stream",
     "text": [
      "Hellow World\n"
     ]
    }
   ],
   "source": [
    "print(\"Hellow World\")\n"
   ]
  },
  {
   "cell_type": "code",
   "execution_count": null,
   "id": "a5e921eb-57da-46f4-8535-397e96e1f307",
   "metadata": {},
   "outputs": [],
   "source": []
  },
  {
   "cell_type": "code",
   "execution_count": null,
   "id": "5ba5e453-9356-495b-acbd-cbafea8a9520",
   "metadata": {},
   "outputs": [],
   "source": []
  },
  {
   "cell_type": "code",
   "execution_count": 11,
   "id": "92545171-f373-4c9c-9c68-11fd50cad92c",
   "metadata": {},
   "outputs": [
    {
     "name": "stdout",
     "output_type": "stream",
     "text": [
      "My age is: 32\n"
     ]
    }
   ],
   "source": [
    "age = 32\n",
    "print(\"My age is:\",age)\n"
   ]
  },
  {
   "cell_type": "code",
   "execution_count": 12,
   "id": "c7f59c96-5edd-4188-a4da-00e905a31fb4",
   "metadata": {},
   "outputs": [
    {
     "name": "stdout",
     "output_type": "stream",
     "text": [
      "my age is :{age}\n"
     ]
    }
   ],
   "source": [
    "print (\"my age is :{age}\")"
   ]
  },
  {
   "cell_type": "code",
   "execution_count": 14,
   "id": "fbf242b9-2b7e-428b-828d-3e7770df8179",
   "metadata": {},
   "outputs": [
    {
     "name": "stdout",
     "output_type": "stream",
     "text": [
      "My age is :32\n"
     ]
    }
   ],
   "source": [
    "## f string\n",
    "print (f\"My age is :{age}\")"
   ]
  },
  {
   "cell_type": "code",
   "execution_count": 15,
   "id": "69bdd35a-f73b-49d5-befb-bb5c744dbf51",
   "metadata": {},
   "outputs": [
    {
     "name": "stdout",
     "output_type": "stream",
     "text": [
      "my name is Dhanraj  and age is  25\n"
     ]
    }
   ],
   "source": [
    "##format()\n",
    "name = \"Dhanraj \"\n",
    "age  = 25\n",
    "print(\"my name is {} and age is  {}\".format(name,age))"
   ]
  },
  {
   "cell_type": "code",
   "execution_count": 19,
   "id": "38c95832-2907-45e5-9bed-72d47464141d",
   "metadata": {},
   "outputs": [
    {
     "name": "stdout",
     "output_type": "stream",
     "text": [
      "my age is 25 and i have completed : my degree of Btech with the name of  Dhanraj singh \n"
     ]
    }
   ],
   "source": [
    "name =\" Dhanraj singh\"\n",
    "age = 25\n",
    "degree = \"Btech\"\n",
    "##\"my age is 25c and i have completed my degree of Btech with the name of Dhanraj singh\"\n",
    "print (\"my age is {} and i have completed : my degree of {} with the name of {} \".format(age ,degree,name))\n"
   ]
  },
  {
   "cell_type": "markdown",
   "id": "afbe7739-9411-47c1-a4e7-29da6eda2c10",
   "metadata": {},
   "source": [
    "## control flow \n",
    "### Decision making statements\n"
   ]
  },
  {
   "cell_type": "code",
   "execution_count": 23,
   "id": "42e313b8-11ac-4489-a066-7d1149eda3f1",
   "metadata": {},
   "outputs": [
    {
     "name": "stdout",
     "output_type": "stream",
     "text": [
      "you are eligible to vote\n"
     ]
    }
   ],
   "source": [
    "## IF statements \n",
    "\n",
    "age = 18\n",
    "if age >= 18:\n",
    "    print (\"you are eligible to vote\")"
   ]
  },
  {
   "cell_type": "code",
   "execution_count": 25,
   "id": "29f0ed49-2462-431b-8b1b-ded6c8bbfc5e",
   "metadata": {},
   "outputs": [
    {
     "name": "stdout",
     "output_type": "stream",
     "text": [
      "you are not  eligible to vote\n"
     ]
    }
   ],
   "source": [
    "## IF statements \n",
    "\n",
    "age = 17\n",
    "if age <18:\n",
    "    print (\"you are not  eligible to vote\")"
   ]
  },
  {
   "cell_type": "code",
   "execution_count": 26,
   "id": "4502b613-4d34-462e-8c30-7048861e312b",
   "metadata": {},
   "outputs": [
    {
     "name": "stdin",
     "output_type": "stream",
     "text": [
      " 23\n"
     ]
    },
    {
     "data": {
      "text/plain": [
       "'23'"
      ]
     },
     "execution_count": 26,
     "metadata": {},
     "output_type": "execute_result"
    }
   ],
   "source": [
    "input()"
   ]
  },
  {
   "cell_type": "code",
   "execution_count": 29,
   "id": "b3f76296-b09a-422e-85a7-f55180306977",
   "metadata": {},
   "outputs": [
    {
     "name": "stdin",
     "output_type": "stream",
     "text": [
      "Enter your age  : 23\n"
     ]
    },
    {
     "name": "stdout",
     "output_type": "stream",
     "text": [
      "you are eligible to vote\n"
     ]
    }
   ],
   "source": [
    "age =int(input(\"Enter your age  :\"))\n",
    " ## IF statements \n",
    "\n",
    "if age >= 18:\n",
    "    print (\"you are eligible to vote\")"
   ]
  },
  {
   "cell_type": "code",
   "execution_count": 32,
   "id": "1961d43b-dc77-4c94-abd1-cbdb5c1afb63",
   "metadata": {},
   "outputs": [
    {
     "name": "stdin",
     "output_type": "stream",
     "text": [
      "Enter your age : 17\n"
     ]
    }
   ],
   "source": [
    "###Task \n",
    "##Take anput of age \n",
    "## check whether age >= 18  and age <= 45\n",
    "##Display you  are a young blood\n",
    "\n",
    "age = int(input( \"Enter your age :\"))\n",
    "if age >= 18 and  age <= 45 :\n",
    "    print(\"you are a young  blood\")\n",
    "    \n"
   ]
  },
  {
   "cell_type": "code",
   "execution_count": 33,
   "id": "cf77046b-cab8-47fe-b957-7f98ca7175f9",
   "metadata": {},
   "outputs": [
    {
     "name": "stdin",
     "output_type": "stream",
     "text": [
      "Enter your age : 17\n"
     ]
    },
    {
     "name": "stdout",
     "output_type": "stream",
     "text": [
      "Thankyou nwe will let you know \n"
     ]
    }
   ],
   "source": [
    "## if else statement\n",
    "age = int(input( \"Enter your age :\"))\n",
    "if age >= 18 and  age <= 45 :\n",
    "    print(\"you are a young  blood\")\n",
    "else :\n",
    "    print(\"Thankyou nwe will let you know \")\n",
    "    \n",
    "    \n"
   ]
  },
  {
   "cell_type": "code",
   "execution_count": 39,
   "id": "651f6722-95d1-4501-826c-440be8fba949",
   "metadata": {},
   "outputs": [
    {
     "name": "stdin",
     "output_type": "stream",
     "text": [
      "Enter the price  of product 599\n"
     ]
    },
    {
     "name": "stdout",
     "output_type": "stream",
     "text": [
      "Price of proiduct is 419.3\n"
     ]
    }
   ],
   "source": [
    "price = int (input(\"Enter the price  of product\"))\n",
    "if price >1000:\n",
    "    print (\"Price of proiduct is {}\".format(price - price*0.2))\n",
    "else :\n",
    "     print (\"Price of proiduct is {}\".format(price - price*0.3))"
   ]
  },
  {
   "cell_type": "code",
   "execution_count": 48,
   "id": "c561ea4b-bb8d-4bc1-9942-9819c75ab800",
   "metadata": {},
   "outputs": [
    {
     "name": "stdin",
     "output_type": "stream",
     "text": [
      "Enter the price  of product 900\n"
     ]
    },
    {
     "name": "stdout",
     "output_type": "stream",
     "text": [
      "Price of proiduct is 900\n",
      "Dhanraj \n"
     ]
    }
   ],
   "source": [
    "price = int (input(\"Enter the price  of product\"))\n",
    "if price >3000:\n",
    "    if price ==4000:\n",
    "        print (\"you will get a trip of Goa\")\n",
    "    print (\"Price of proiduct is {}\".format(price - price*0.2))\n",
    "elif price >2000 and price<=3000:\n",
    "    if price ==2999:\n",
    "        print (\"Congratulation you get an additional gift coupan of 500\")\n",
    "    print (\"Price of proiduct is {}\".format(price - price*0.3))\n",
    "\n",
    "elif price>1000 and price <= 2000:\n",
    "     print (\"Price of proiduct is {}\".format(price - price*0.4))\n",
    "else:\n",
    "     print (\"Price of proiduct is {}\".format(price))\n",
    "print(\"Dhanraj \")"
   ]
  },
  {
   "cell_type": "code",
   "execution_count": 49,
   "id": "a03e8ff9-9189-441b-8301-d075b9f3487f",
   "metadata": {},
   "outputs": [],
   "source": [
    "#single statement"
   ]
  },
  {
   "cell_type": "code",
   "execution_count": null,
   "id": "af538dff-64b6-4644-9794-219a0638da8e",
   "metadata": {},
   "outputs": [],
   "source": []
  }
 ],
 "metadata": {
  "kernelspec": {
   "display_name": "Python 3 (ipykernel)",
   "language": "python",
   "name": "python3"
  },
  "language_info": {
   "codemirror_mode": {
    "name": "ipython",
    "version": 3
   },
   "file_extension": ".py",
   "mimetype": "text/x-python",
   "name": "python",
   "nbconvert_exporter": "python",
   "pygments_lexer": "ipython3",
   "version": "3.10.8"
  }
 },
 "nbformat": 4,
 "nbformat_minor": 5
}
