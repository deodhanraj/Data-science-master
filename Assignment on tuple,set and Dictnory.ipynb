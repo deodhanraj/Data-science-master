{
 "cells": [
  {
   "cell_type": "markdown",
   "id": "fa631677",
   "metadata": {},
   "source": [
    "###  Q1 .What are the characteristics of tuples? Is tuple immutable?\n",
    "\n"
   ]
  },
  {
   "cell_type": "markdown",
   "id": "2258bbd6",
   "metadata": {},
   "source": [
    "#### Ans:Chanracteristics of tuples are :\n",
    "    a)tuples are indexed\n",
    "    b)tuples are orderd\n",
    "    c)tuples can contain duplicates.\n",
    "    yes ,tuple is immutable."
   ]
  },
  {
   "cell_type": "markdown",
   "id": "5f98303d",
   "metadata": {},
   "source": [
    "### Q2.   what are the two tuple methods in python? Give an example of each method .Give a reason why tuples have only two in-built methods as compared to Lists."
   ]
  },
  {
   "cell_type": "markdown",
   "id": "83319a98",
   "metadata": {},
   "source": [
    " #### Ans: Two tuple methods are:\n",
    "        a)count()\n",
    "           ex:- \n",
    "                t1 = (1,2,3,4,5,6,7,5)\n",
    "                x = t1.count(5)\n",
    "                print(x)\n",
    "           \n",
    "         b)index()\n",
    "              ex:-t1 = (1,2,3,4,5,6,7,5)\n",
    "                   y = t1.index(5)\n",
    "                   print(y)\n",
    "                   \n",
    "        \n",
    "              \n",
    "                "
   ]
  },
  {
   "cell_type": "markdown",
   "id": "67c8798b",
   "metadata": {},
   "source": [
    "### Q3. Which collection datatypes in python do not allow duplicate items? write a code using a set to remove duplicate from the given list.\n",
    "List = [1,1,1,2,1,3,4,2,1,2,2,2,3,2,4,3,2,4,3,1,3,2,3,3,3,4,4,1,2,4,3,4,4]\n",
    "\n",
    "#### Ans:- Set does not allow duplicate items in python.\n",
    "     "
   ]
  },
  {
   "cell_type": "code",
   "execution_count": 22,
   "id": "f278a135",
   "metadata": {},
   "outputs": [
    {
     "name": "stdout",
     "output_type": "stream",
     "text": [
      "[1, 2, 3, 4]\n"
     ]
    }
   ],
   "source": [
    "List = [1,1,1,2,1,3,4,2,1,2,2,2,3,2,4,3,2,4,3,1,3,2,3,3,3,4,4,1,2,4,3,4,4]\n",
    "List_without_duplicates=list(set(List))\n",
    "print(List_without_duplicates)"
   ]
  },
  {
   "cell_type": "markdown",
   "id": "88a937e6",
   "metadata": {},
   "source": [
    "### Q4. Explain the difference between the union() and update() methods for a set.Give an example of each method."
   ]
  },
  {
   "cell_type": "markdown",
   "id": "ceacce47",
   "metadata": {},
   "source": [
    " Ans: update()  add new elements to the same set but union() create a  new set.\n",
    "        \n",
    "  "
   ]
  },
  {
   "cell_type": "code",
   "execution_count": 23,
   "id": "bc99b97a",
   "metadata": {},
   "outputs": [
    {
     "name": "stdout",
     "output_type": "stream",
     "text": [
      "{1, 2, 3, 4, 5}\n",
      "{1, 2, 3, 4, 5}\n"
     ]
    },
    {
     "data": {
      "text/plain": [
       "False"
      ]
     },
     "execution_count": 23,
     "metadata": {},
     "output_type": "execute_result"
    }
   ],
   "source": [
    "# ex -Update()\n",
    "x = { 1,2,3,4}   \n",
    "u = x.update({5})\n",
    "print((x))\n",
    "\n",
    "# ex: - Union()\n",
    "\n",
    "y = { 1,2,3,4}\n",
    "z= y.union({5})\n",
    "\n",
    "print((z))\n",
    "\n",
    "# Diffenrence:-\n",
    "id(x) == id(z)   # since  id of  both set is not same hence proved\n"
   ]
  },
  {
   "cell_type": "markdown",
   "id": "b83301e0",
   "metadata": {},
   "source": [
    "### Q5. What is a dictionary? Give an example.Also state whether a dictionary is orderd or unorderd."
   ]
  },
  {
   "cell_type": "markdown",
   "id": "c3e55538",
   "metadata": {},
   "source": [
    "Ans :Dictionary is used to store data vlues in keys: value pairs.A dictionary is collection which is ordered  changable and do not allow duplicates."
   ]
  },
  {
   "cell_type": "code",
   "execution_count": 28,
   "id": "7fe83274",
   "metadata": {},
   "outputs": [
    {
     "data": {
      "text/plain": [
       "'value1'"
      ]
     },
     "execution_count": 28,
     "metadata": {},
     "output_type": "execute_result"
    }
   ],
   "source": [
    "# ex:_\n",
    "d = {\"key1\": \"value1\" ,\"key2\" : \"value2\"}\n",
    "\n",
    "d[\"key1\"]\n",
    "\n"
   ]
  },
  {
   "cell_type": "markdown",
   "id": "d494b1ff",
   "metadata": {},
   "source": [
    "### Q6.Can we create a nested dictionary ? If so, please give an example by creating a simple one-level nested dictionary."
   ]
  },
  {
   "cell_type": "code",
   "execution_count": null,
   "id": "44a76049",
   "metadata": {},
   "outputs": [],
   "source": [
    " Ans:Yes, we can create a nested dictionary."
   ]
  },
  {
   "cell_type": "code",
   "execution_count": 29,
   "id": "cf3a5f9b",
   "metadata": {},
   "outputs": [
    {
     "data": {
      "text/plain": [
       "'DSM'"
      ]
     },
     "execution_count": 29,
     "metadata": {},
     "output_type": "execute_result"
    }
   ],
   "source": [
    "d1 = { \"key\" :{ \"name\" : \"Dhanraj\",\"class\": \"DSM\"}}\n",
    "\n",
    "d1[\"key\"][\"class\"]"
   ]
  },
  {
   "cell_type": "markdown",
   "id": "dc776e3e",
   "metadata": {},
   "source": [
    "### Q7. Using setdefault() method, create key named topics in the given dictionary and also add the value of the key as this ['Python','Machine Learning','Deep Learning']\n",
    " dict1 = {'language':'Python','course':'Data Science Masters'}"
   ]
  },
  {
   "cell_type": "code",
   "execution_count": null,
   "id": "f8dda85d",
   "metadata": {},
   "outputs": [],
   "source": [
    "Ans: you can use the setdefault() method to create a key named 'topics' in  the 'dict1' dictionary and set its value to ['Python','Machine Learning','Deep Learning']"
   ]
  },
  {
   "cell_type": "code",
   "execution_count": 40,
   "id": "3f0f3470",
   "metadata": {},
   "outputs": [
    {
     "name": "stdout",
     "output_type": "stream",
     "text": [
      "{'language': 'Python', 'course': 'Data Science Masters', 'topics': ['Python', 'Machine Learning', 'Deep Learning']}\n"
     ]
    }
   ],
   "source": [
    "dict1 = {'language':'Python','course':'Data Science Masters'}\n",
    "dict1.setdefault('topics',['Python','Machine Learning','Deep Learning'])\n",
    "print(dict1)"
   ]
  },
  {
   "cell_type": "markdown",
   "id": "d09df309",
   "metadata": {},
   "source": [
    "### Q8.what are the three view objects in dictionaries? Use the three in-built methods in python to display these three view objects for the given dictionary.\n",
    "dict1 = {'Sport':'Cricket','Teams:['India','Australia','England','South Africa','Sri Lanka','New Zealand']}"
   ]
  },
  {
   "cell_type": "code",
   "execution_count": null,
   "id": "8c32452f",
   "metadata": {},
   "outputs": [],
   "source": [
    "Ans : The three view objects in dictionaries are keys ,values and items"
   ]
  },
  {
   "cell_type": "code",
   "execution_count": 38,
   "id": "b4f76119",
   "metadata": {},
   "outputs": [
    {
     "name": "stdout",
     "output_type": "stream",
     "text": [
      "dict_keys : dict_keys(['Sport', 'Teams'])\n",
      "dict_values : dict_values(['Cricket', ['India', 'Australia', 'England', 'South Africa', 'Sri Lanka', 'New Zealand']])\n",
      "dict_items : dict_items([('Sport', 'Cricket'), ('Teams', ['India', 'Australia', 'England', 'South Africa', 'Sri Lanka', 'New Zealand'])])\n"
     ]
    }
   ],
   "source": [
    "dict1 = {'Sport':'Cricket','Teams':['India','Australia','England','South Africa','Sri Lanka','New Zealand']}\n",
    "print(\"dict_keys\",\":\",dict1.keys())\n",
    "print( \"dict_values\",\":\",dict1.values())\n",
    " \n",
    "print(\"dict_items\",\":\",dict1.items())"
   ]
  },
  {
   "cell_type": "code",
   "execution_count": null,
   "id": "ae1c3c40",
   "metadata": {},
   "outputs": [],
   "source": []
  }
 ],
 "metadata": {
  "kernelspec": {
   "display_name": "Python 3 (ipykernel)",
   "language": "python",
   "name": "python3"
  },
  "language_info": {
   "codemirror_mode": {
    "name": "ipython",
    "version": 3
   },
   "file_extension": ".py",
   "mimetype": "text/x-python",
   "name": "python",
   "nbconvert_exporter": "python",
   "pygments_lexer": "ipython3",
   "version": "3.9.13"
  }
 },
 "nbformat": 4,
 "nbformat_minor": 5
}
