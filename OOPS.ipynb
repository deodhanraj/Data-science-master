{
 "cells": [
  {
   "cell_type": "markdown",
   "id": "5298512b",
   "metadata": {},
   "source": [
    "#### \"Oops\" stands for object oriented programming system"
   ]
  },
  {
   "cell_type": "code",
   "execution_count": 1,
   "id": "e03e34b9",
   "metadata": {},
   "outputs": [],
   "source": [
    "a = 1\n"
   ]
  },
  {
   "cell_type": "code",
   "execution_count": 2,
   "id": "855bd679",
   "metadata": {},
   "outputs": [
    {
     "name": "stdout",
     "output_type": "stream",
     "text": [
      "<class 'int'>\n"
     ]
    }
   ],
   "source": [
    "print(type(a))"
   ]
  },
  {
   "cell_type": "code",
   "execution_count": 3,
   "id": "e87a1643",
   "metadata": {},
   "outputs": [
    {
     "name": "stdout",
     "output_type": "stream",
     "text": [
      "<class 'str'>\n"
     ]
    }
   ],
   "source": [
    "print(type(\"pwskills\"))"
   ]
  },
  {
   "cell_type": "code",
   "execution_count": 7,
   "id": "e33ac950",
   "metadata": {},
   "outputs": [
    {
     "ename": "TypeError",
     "evalue": "int() takes at most 2 arguments (3 given)",
     "output_type": "error",
     "traceback": [
      "\u001b[1;31m---------------------------------------------------------------------------\u001b[0m",
      "\u001b[1;31mTypeError\u001b[0m                                 Traceback (most recent call last)",
      "\u001b[1;32m~\\AppData\\Local\\Temp\\ipykernel_35660\\269747811.py\u001b[0m in \u001b[0;36m<module>\u001b[1;34m\u001b[0m\n\u001b[1;32m----> 1\u001b[1;33m \u001b[1;32mclass\u001b[0m \u001b[0mtest\u001b[0m\u001b[1;33m(\u001b[0m\u001b[0ma\u001b[0m\u001b[1;33m)\u001b[0m\u001b[1;33m:\u001b[0m\u001b[1;33m\u001b[0m\u001b[1;33m\u001b[0m\u001b[0m\n\u001b[0m\u001b[0;32m      2\u001b[0m     \u001b[1;32mpass\u001b[0m\u001b[1;33m\u001b[0m\u001b[1;33m\u001b[0m\u001b[0m\n",
      "\u001b[1;31mTypeError\u001b[0m: int() takes at most 2 arguments (3 given)"
     ]
    }
   ],
   "source": [
    "class test: \n",
    "    pass"
   ]
  },
  {
   "cell_type": "code",
   "execution_count": 8,
   "id": "f8a97e5a",
   "metadata": {},
   "outputs": [],
   "source": [
    "a = test()"
   ]
  },
  {
   "cell_type": "code",
   "execution_count": 9,
   "id": "ead6539e",
   "metadata": {},
   "outputs": [
    {
     "name": "stdout",
     "output_type": "stream",
     "text": [
      "<class '__main__.test'>\n"
     ]
    }
   ],
   "source": [
    "print(type(a))"
   ]
  },
  {
   "cell_type": "code",
   "execution_count": 13,
   "id": "117f79a0",
   "metadata": {},
   "outputs": [],
   "source": [
    "class pwskills:\n",
    "    def welcome_msg(self):\n",
    "        print(\"welcome to pwskills\")"
   ]
  },
  {
   "cell_type": "code",
   "execution_count": 15,
   "id": "82e9abb2",
   "metadata": {},
   "outputs": [],
   "source": [
    "rohan = pwskills()"
   ]
  },
  {
   "cell_type": "code",
   "execution_count": 16,
   "id": "7f908425",
   "metadata": {},
   "outputs": [
    {
     "name": "stdout",
     "output_type": "stream",
     "text": [
      "welcome to pwskills\n"
     ]
    }
   ],
   "source": [
    "rohan.welcome_msg()"
   ]
  },
  {
   "cell_type": "code",
   "execution_count": 17,
   "id": "42d7145a",
   "metadata": {},
   "outputs": [],
   "source": [
    "sohan = pwskills()"
   ]
  },
  {
   "cell_type": "code",
   "execution_count": 18,
   "id": "34c39500",
   "metadata": {},
   "outputs": [
    {
     "name": "stdout",
     "output_type": "stream",
     "text": [
      "welcome to pwskills\n"
     ]
    }
   ],
   "source": [
    "sohan.welcome_msg()"
   ]
  },
  {
   "cell_type": "code",
   "execution_count": 19,
   "id": "86a25a2a",
   "metadata": {},
   "outputs": [],
   "source": [
    "a = 1"
   ]
  },
  {
   "cell_type": "code",
   "execution_count": 20,
   "id": "7a69f5d4",
   "metadata": {},
   "outputs": [],
   "source": [
    "b = 2"
   ]
  },
  {
   "cell_type": "code",
   "execution_count": 21,
   "id": "38720683",
   "metadata": {},
   "outputs": [
    {
     "data": {
      "text/plain": [
       "1"
      ]
     },
     "execution_count": 21,
     "metadata": {},
     "output_type": "execute_result"
    }
   ],
   "source": [
    "a\n"
   ]
  },
  {
   "cell_type": "code",
   "execution_count": 22,
   "id": "c682d30f",
   "metadata": {},
   "outputs": [
    {
     "data": {
      "text/plain": [
       "2"
      ]
     },
     "execution_count": 22,
     "metadata": {},
     "output_type": "execute_result"
    }
   ],
   "source": [
    "b"
   ]
  },
  {
   "cell_type": "code",
   "execution_count": 38,
   "id": "e5f1bbc5",
   "metadata": {},
   "outputs": [],
   "source": [
    "class pwskills1:\n",
    "    \n",
    "    def __init__ (self, phone_number, email_id,student_id):\n",
    "        self.phone_number = phone_number\n",
    "        self.email_id = email_id\n",
    "        self.student_id = student_id\n",
    "        \n",
    "    def return_student_details(self):\n",
    "        return self.phone_number,self.email_id,self.student_id\n"
   ]
  },
  {
   "cell_type": "code",
   "execution_count": 39,
   "id": "b876de2b",
   "metadata": {},
   "outputs": [],
   "source": [
    "rohan = pwskills1(9876543,\"rohan@gmAIL.COM\",8908)"
   ]
  },
  {
   "cell_type": "code",
   "execution_count": 40,
   "id": "45fa0486",
   "metadata": {},
   "outputs": [
    {
     "data": {
      "text/plain": [
       "9876543"
      ]
     },
     "execution_count": 40,
     "metadata": {},
     "output_type": "execute_result"
    }
   ],
   "source": [
    "rohan.phone_number"
   ]
  },
  {
   "cell_type": "code",
   "execution_count": 41,
   "id": "6cb85060",
   "metadata": {},
   "outputs": [
    {
     "data": {
      "text/plain": [
       "'rohan@gmAIL.COM'"
      ]
     },
     "execution_count": 41,
     "metadata": {},
     "output_type": "execute_result"
    }
   ],
   "source": [
    "rohan.email_id\n"
   ]
  },
  {
   "cell_type": "code",
   "execution_count": 42,
   "id": "93cc9819",
   "metadata": {},
   "outputs": [
    {
     "data": {
      "text/plain": [
       "8908"
      ]
     },
     "execution_count": 42,
     "metadata": {},
     "output_type": "execute_result"
    }
   ],
   "source": [
    "rohan.student_id\n"
   ]
  },
  {
   "cell_type": "code",
   "execution_count": 44,
   "id": "1fb644aa",
   "metadata": {},
   "outputs": [
    {
     "data": {
      "text/plain": [
       "(9876543, 'rohan@gmAIL.COM', 8908)"
      ]
     },
     "execution_count": 44,
     "metadata": {},
     "output_type": "execute_result"
    }
   ],
   "source": [
    "rohan.return_student_details()"
   ]
  },
  {
   "cell_type": "code",
   "execution_count": 45,
   "id": "93d35a78",
   "metadata": {},
   "outputs": [],
   "source": [
    "sohan = pwskills1(9876543210,\"sohan@gmail.com\",9988)"
   ]
  },
  {
   "cell_type": "code",
   "execution_count": 46,
   "id": "ea3c0d7a",
   "metadata": {},
   "outputs": [
    {
     "data": {
      "text/plain": [
       "<__main__.pwskills1 at 0x1da8b1ac9a0>"
      ]
     },
     "execution_count": 46,
     "metadata": {},
     "output_type": "execute_result"
    }
   ],
   "source": [
    "sohan"
   ]
  },
  {
   "cell_type": "code",
   "execution_count": 47,
   "id": "b5c9f755",
   "metadata": {},
   "outputs": [
    {
     "data": {
      "text/plain": [
       "9876543210"
      ]
     },
     "execution_count": 47,
     "metadata": {},
     "output_type": "execute_result"
    }
   ],
   "source": [
    "sohan.phone_number\n"
   ]
  },
  {
   "cell_type": "code",
   "execution_count": 48,
   "id": "74789533",
   "metadata": {},
   "outputs": [
    {
     "data": {
      "text/plain": [
       "(9876543210, 'sohan@gmail.com', 9988)"
      ]
     },
     "execution_count": 48,
     "metadata": {},
     "output_type": "execute_result"
    }
   ],
   "source": [
    "sohan.return_student_details()"
   ]
  },
  {
   "cell_type": "code",
   "execution_count": 49,
   "id": "3e0f8843",
   "metadata": {},
   "outputs": [
    {
     "data": {
      "text/plain": [
       "(9876543, 'rohan@gmAIL.COM', 8908)"
      ]
     },
     "execution_count": 49,
     "metadata": {},
     "output_type": "execute_result"
    }
   ],
   "source": [
    "rohan.return_student_details()"
   ]
  },
  {
   "cell_type": "code",
   "execution_count": 50,
   "id": "3e8464cf",
   "metadata": {},
   "outputs": [],
   "source": [
    "class pwskills2:\n",
    "    \n",
    "    def __init__(dhan ,phone_number , email_id, student_id ):\n",
    "        \n",
    "        dhan.phone_number = phone_number\n",
    "        dhan.email_id = email_id\n",
    "        dhan.student_id = student_id\n",
    "        \n",
    "    \n",
    "    def return_student_detials(dhan):\n",
    "        return dhan.phone_number, dhan.email_id , dhan.student_id\n",
    "        \n"
   ]
  },
  {
   "cell_type": "code",
   "execution_count": 51,
   "id": "6039a6d3",
   "metadata": {},
   "outputs": [],
   "source": [
    "mohan = pwskills2(98402923938,\"mohan@gmail.com\",4455)"
   ]
  },
  {
   "cell_type": "code",
   "execution_count": 52,
   "id": "ba8d2d5d",
   "metadata": {},
   "outputs": [
    {
     "data": {
      "text/plain": [
       "(98402923938, 'mohan@gmail.com', 4455)"
      ]
     },
     "execution_count": 52,
     "metadata": {},
     "output_type": "execute_result"
    }
   ],
   "source": [
    "mohan.return_student_detials()"
   ]
  },
  {
   "cell_type": "code",
   "execution_count": 53,
   "id": "d1bd5eb3",
   "metadata": {},
   "outputs": [
    {
     "data": {
      "text/plain": [
       "4455"
      ]
     },
     "execution_count": 53,
     "metadata": {},
     "output_type": "execute_result"
    }
   ],
   "source": [
    "mohan.student_id"
   ]
  },
  {
   "cell_type": "code",
   "execution_count": 54,
   "id": "2d6f57cb",
   "metadata": {},
   "outputs": [
    {
     "data": {
      "text/plain": [
       "'mohan@gmail.com'"
      ]
     },
     "execution_count": 54,
     "metadata": {},
     "output_type": "execute_result"
    }
   ],
   "source": [
    "mohan.email_id"
   ]
  },
  {
   "cell_type": "code",
   "execution_count": 55,
   "id": "a8b2f4bf",
   "metadata": {},
   "outputs": [
    {
     "data": {
      "text/plain": [
       "4455"
      ]
     },
     "execution_count": 55,
     "metadata": {},
     "output_type": "execute_result"
    }
   ],
   "source": [
    "mohan.student_id"
   ]
  },
  {
   "cell_type": "code",
   "execution_count": 62,
   "id": "56be43c7",
   "metadata": {},
   "outputs": [],
   "source": [
    "class pwskills3:\n",
    "    \n",
    "    def __init__(self ,phone_number , email_id, student_id ):\n",
    "        \n",
    "        self.phone_number1 = phone_number\n",
    "        self.email_id = email_id\n",
    "        self.student_id = student_id\n",
    "        \n",
    "    \n",
    "    def return_student_detials(self):\n",
    "        return self.phone_number1, self.email_id , self.student_id\n",
    "        \n"
   ]
  },
  {
   "cell_type": "code",
   "execution_count": 64,
   "id": "91ac7ddf",
   "metadata": {},
   "outputs": [],
   "source": [
    "rohan =pwskills3(990088,\"rohan@gmail.com\",123)"
   ]
  },
  {
   "cell_type": "code",
   "execution_count": 60,
   "id": "2072c253",
   "metadata": {},
   "outputs": [
    {
     "data": {
      "text/plain": [
       "990088"
      ]
     },
     "execution_count": 60,
     "metadata": {},
     "output_type": "execute_result"
    }
   ],
   "source": [
    "rohan.phone_number1"
   ]
  },
  {
   "cell_type": "code",
   "execution_count": 65,
   "id": "2ad9d1ef",
   "metadata": {},
   "outputs": [
    {
     "data": {
      "text/plain": [
       "(990088, 'rohan@gmail.com', 123)"
      ]
     },
     "execution_count": 65,
     "metadata": {},
     "output_type": "execute_result"
    }
   ],
   "source": [
    "rohan.return_student_detials()"
   ]
  },
  {
   "cell_type": "code",
   "execution_count": null,
   "id": "264ec6f6",
   "metadata": {},
   "outputs": [],
   "source": []
  }
 ],
 "metadata": {
  "kernelspec": {
   "display_name": "Python 3 (ipykernel)",
   "language": "python",
   "name": "python3"
  },
  "language_info": {
   "codemirror_mode": {
    "name": "ipython",
    "version": 3
   },
   "file_extension": ".py",
   "mimetype": "text/x-python",
   "name": "python",
   "nbconvert_exporter": "python",
   "pygments_lexer": "ipython3",
   "version": "3.9.13"
  }
 },
 "nbformat": 4,
 "nbformat_minor": 5
}
