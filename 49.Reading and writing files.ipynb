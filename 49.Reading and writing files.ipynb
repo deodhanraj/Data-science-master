{
 "cells": [
  {
   "cell_type": "code",
   "execution_count": 6,
   "id": "c856a194",
   "metadata": {},
   "outputs": [],
   "source": [
    "data = {\n",
    "    \"name\" : \"Dhanraj\",\n",
    "    \"mail_id\" :\"dhanraj@gmail.com\",\n",
    "    \"phone_number\":988765433,\n",
    "    \"subject\":[\"data science\",\"big data\",\"data analytics\"]\n",
    "}"
   ]
  },
  {
   "cell_type": "code",
   "execution_count": 7,
   "id": "2b70e048",
   "metadata": {},
   "outputs": [],
   "source": [
    "import json"
   ]
  },
  {
   "cell_type": "code",
   "execution_count": 8,
   "id": "da628e7a",
   "metadata": {},
   "outputs": [],
   "source": [
    "with open (\"test1.json\",\"w\") as f:\n",
    "    json.dump(data,f)"
   ]
  },
  {
   "cell_type": "code",
   "execution_count": 9,
   "id": "1027e8f9",
   "metadata": {},
   "outputs": [],
   "source": [
    "with open(\"test1.json\",'r') as f:\n",
    "    data1 = json.load(f)"
   ]
  },
  {
   "cell_type": "code",
   "execution_count": 10,
   "id": "7f28fb6b",
   "metadata": {},
   "outputs": [
    {
     "data": {
      "text/plain": [
       "{'name': 'Dhanraj',\n",
       " 'mail_id': 'dhanraj@gmail.com',\n",
       " 'phone_number': 988765433,\n",
       " 'subject': ['data science', 'big data', 'data analytics']}"
      ]
     },
     "execution_count": 10,
     "metadata": {},
     "output_type": "execute_result"
    }
   ],
   "source": [
    "data1"
   ]
  },
  {
   "cell_type": "code",
   "execution_count": 11,
   "id": "4ebad051",
   "metadata": {},
   "outputs": [
    {
     "data": {
      "text/plain": [
       "'big data'"
      ]
     },
     "execution_count": 11,
     "metadata": {},
     "output_type": "execute_result"
    }
   ],
   "source": [
    "data1['subject'][1]"
   ]
  },
  {
   "cell_type": "code",
   "execution_count": 17,
   "id": "4f12f5e1",
   "metadata": {},
   "outputs": [],
   "source": [
    "data = [[\"name\",\"emai_id\",\"number\"],[\"dhanraj\",\"dhanraj@gamil.com\",98899988],[\"ishu\",\"isjhu@gmail.com\",948847839]]"
   ]
  },
  {
   "cell_type": "code",
   "execution_count": 18,
   "id": "e864cbaf",
   "metadata": {},
   "outputs": [],
   "source": [
    "import csv\n"
   ]
  },
  {
   "cell_type": "code",
   "execution_count": 20,
   "id": "7723923e",
   "metadata": {},
   "outputs": [],
   "source": [
    "with open (\"test3.csv\",'w') as f:\n",
    "    w =  csv.writer(f)\n",
    "    for i in data:\n",
    "        w.writerow(i)\n",
    "                "
   ]
  },
  {
   "cell_type": "code",
   "execution_count": 22,
   "id": "a0992386",
   "metadata": {},
   "outputs": [
    {
     "name": "stdout",
     "output_type": "stream",
     "text": [
      "['name', 'emai_id', 'number']\n",
      "[]\n",
      "['dhanraj', 'dhanraj@gamil.com', '98899988']\n",
      "[]\n",
      "['ishu', 'isjhu@gmail.com', '948847839']\n",
      "[]\n"
     ]
    }
   ],
   "source": [
    "with open (\"test3.csv\",'r') as f:\n",
    "    read = csv.reader(f)\n",
    "    for  i in read:\n",
    "        print(i)"
   ]
  },
  {
   "cell_type": "code",
   "execution_count": 26,
   "id": "9ee73adb",
   "metadata": {},
   "outputs": [],
   "source": [
    "with open(\"test4.bin\",'wb') as f:\n",
    "    f.write(b\"\\x01\")"
   ]
  },
  {
   "cell_type": "code",
   "execution_count": 28,
   "id": "fd796dab",
   "metadata": {},
   "outputs": [
    {
     "name": "stdout",
     "output_type": "stream",
     "text": [
      "b'\\x01'\n"
     ]
    }
   ],
   "source": [
    "with open(\"test4.bin\",\"rb\") as f:\n",
    "    print(f.read())"
   ]
  },
  {
   "cell_type": "code",
   "execution_count": null,
   "id": "a9763621",
   "metadata": {},
   "outputs": [],
   "source": []
  }
 ],
 "metadata": {
  "kernelspec": {
   "display_name": "Python 3 (ipykernel)",
   "language": "python",
   "name": "python3"
  },
  "language_info": {
   "codemirror_mode": {
    "name": "ipython",
    "version": 3
   },
   "file_extension": ".py",
   "mimetype": "text/x-python",
   "name": "python",
   "nbconvert_exporter": "python",
   "pygments_lexer": "ipython3",
   "version": "3.9.13"
  }
 },
 "nbformat": 4,
 "nbformat_minor": 5
}
