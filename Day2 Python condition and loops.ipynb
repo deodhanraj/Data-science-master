{
 "cells": [
  {
   "cell_type": "code",
   "execution_count": 1,
   "id": "2443ac61-9edc-4547-8a71-adeb10661afe",
   "metadata": {},
   "outputs": [],
   "source": [
    "a= 10"
   ]
  },
  {
   "cell_type": "code",
   "execution_count": 2,
   "id": "1f36fa61-ff27-4232-a9fa-1c255955f39b",
   "metadata": {},
   "outputs": [
    {
     "data": {
      "text/plain": [
       "10"
      ]
     },
     "execution_count": 2,
     "metadata": {},
     "output_type": "execute_result"
    }
   ],
   "source": [
    "a"
   ]
  },
  {
   "cell_type": "code",
   "execution_count": 3,
   "id": "d89554f1-5001-4b63-9bdf-576363315554",
   "metadata": {},
   "outputs": [],
   "source": [
    "a='c'"
   ]
  },
  {
   "cell_type": "code",
   "execution_count": 4,
   "id": "ea92121f-f7b9-483e-904e-71d181b7d732",
   "metadata": {},
   "outputs": [
    {
     "data": {
      "text/plain": [
       "str"
      ]
     },
     "execution_count": 4,
     "metadata": {},
     "output_type": "execute_result"
    }
   ],
   "source": [
    "type(a)"
   ]
  },
  {
   "cell_type": "code",
   "execution_count": 5,
   "id": "3a533b51-1ec6-4fa7-a367-b97d87dc4d6e",
   "metadata": {},
   "outputs": [
    {
     "data": {
      "text/plain": [
       "int"
      ]
     },
     "execution_count": 5,
     "metadata": {},
     "output_type": "execute_result"
    }
   ],
   "source": [
    "int\n"
   ]
  },
  {
   "cell_type": "code",
   "execution_count": 6,
   "id": "06dbe52a-f070-40a8-b79a-13af1445f897",
   "metadata": {},
   "outputs": [
    {
     "data": {
      "text/plain": [
       "1234"
      ]
     },
     "execution_count": 6,
     "metadata": {},
     "output_type": "execute_result"
    }
   ],
   "source": [
    "int('1234')\n"
   ]
  },
  {
   "cell_type": "code",
   "execution_count": 8,
   "id": "668cecf6-85af-43c3-a432-d90bd62e2406",
   "metadata": {},
   "outputs": [
    {
     "name": "stdout",
     "output_type": "stream",
     "text": [
      "\n"
     ]
    }
   ],
   "source": [
    "print()"
   ]
  },
  {
   "cell_type": "code",
   "execution_count": 9,
   "id": "8c232792-c01a-4e34-bcc8-cf6a68ce288e",
   "metadata": {},
   "outputs": [
    {
     "name": "stdout",
     "output_type": "stream",
     "text": [
      "c\n"
     ]
    }
   ],
   "source": [
    "print(a)"
   ]
  },
  {
   "cell_type": "code",
   "execution_count": 10,
   "id": "e392b0df-02e5-438f-96ac-ffa82f21916a",
   "metadata": {},
   "outputs": [
    {
     "name": "stdout",
     "output_type": "stream",
     "text": [
      "Hellow World\n"
     ]
    }
   ],
   "source": [
    "print(\"Hellow World\")\n"
   ]
  },
  {
   "cell_type": "code",
   "execution_count": null,
   "id": "a5e921eb-57da-46f4-8535-397e96e1f307",
   "metadata": {},
   "outputs": [],
   "source": []
  },
  {
   "cell_type": "code",
   "execution_count": null,
   "id": "5ba5e453-9356-495b-acbd-cbafea8a9520",
   "metadata": {},
   "outputs": [],
   "source": []
  },
  {
   "cell_type": "code",
   "execution_count": 11,
   "id": "92545171-f373-4c9c-9c68-11fd50cad92c",
   "metadata": {},
   "outputs": [
    {
     "name": "stdout",
     "output_type": "stream",
     "text": [
      "My age is: 32\n"
     ]
    }
   ],
   "source": [
    "age = 32\n",
    "print(\"My age is:\",age)\n"
   ]
  },
  {
   "cell_type": "code",
   "execution_count": 12,
   "id": "c7f59c96-5edd-4188-a4da-00e905a31fb4",
   "metadata": {},
   "outputs": [
    {
     "name": "stdout",
     "output_type": "stream",
     "text": [
      "my age is :{age}\n"
     ]
    }
   ],
   "source": [
    "print (\"my age is :{age}\")"
   ]
  },
  {
   "cell_type": "code",
   "execution_count": 14,
   "id": "fbf242b9-2b7e-428b-828d-3e7770df8179",
   "metadata": {},
   "outputs": [
    {
     "name": "stdout",
     "output_type": "stream",
     "text": [
      "My age is :32\n"
     ]
    }
   ],
   "source": [
    "## f string\n",
    "print (f\"My age is :{age}\")"
   ]
  },
  {
   "cell_type": "code",
   "execution_count": 15,
   "id": "69bdd35a-f73b-49d5-befb-bb5c744dbf51",
   "metadata": {},
   "outputs": [
    {
     "name": "stdout",
     "output_type": "stream",
     "text": [
      "my name is Dhanraj  and age is  25\n"
     ]
    }
   ],
   "source": [
    "##format()\n",
    "name = \"Dhanraj \"\n",
    "age  = 25\n",
    "print(\"my name is {} and age is  {}\".format(name,age))"
   ]
  },
  {
   "cell_type": "code",
   "execution_count": 19,
   "id": "38c95832-2907-45e5-9bed-72d47464141d",
   "metadata": {},
   "outputs": [
    {
     "name": "stdout",
     "output_type": "stream",
     "text": [
      "my age is 25 and i have completed : my degree of Btech with the name of  Dhanraj singh \n"
     ]
    }
   ],
   "source": [
    "name =\" Dhanraj singh\"\n",
    "age = 25\n",
    "degree = \"Btech\"\n",
    "##\"my age is 25c and i have completed my degree of Btech with the name of Dhanraj singh\"\n",
    "print (\"my age is {} and i have completed : my degree of {} with the name of {} \".format(age ,degree,name))\n"
   ]
  },
  {
   "cell_type": "markdown",
   "id": "afbe7739-9411-47c1-a4e7-29da6eda2c10",
   "metadata": {},
   "source": [
    "## control flow \n",
    "### Decision making statements\n"
   ]
  },
  {
   "cell_type": "code",
   "execution_count": 23,
   "id": "42e313b8-11ac-4489-a066-7d1149eda3f1",
   "metadata": {},
   "outputs": [
    {
     "name": "stdout",
     "output_type": "stream",
     "text": [
      "you are eligible to vote\n"
     ]
    }
   ],
   "source": [
    "## IF statements \n",
    "\n",
    "age = 18\n",
    "if age >= 18:\n",
    "    print (\"you are eligible to vote\")"
   ]
  },
  {
   "cell_type": "code",
   "execution_count": 25,
   "id": "29f0ed49-2462-431b-8b1b-ded6c8bbfc5e",
   "metadata": {},
   "outputs": [
    {
     "name": "stdout",
     "output_type": "stream",
     "text": [
      "you are not  eligible to vote\n"
     ]
    }
   ],
   "source": [
    "## IF statements \n",
    "\n",
    "age = 17\n",
    "if age <18:\n",
    "    print (\"you are not  eligible to vote\")"
   ]
  },
  {
   "cell_type": "code",
   "execution_count": 26,
   "id": "4502b613-4d34-462e-8c30-7048861e312b",
   "metadata": {},
   "outputs": [
    {
     "name": "stdin",
     "output_type": "stream",
     "text": [
      " 23\n"
     ]
    },
    {
     "data": {
      "text/plain": [
       "'23'"
      ]
     },
     "execution_count": 26,
     "metadata": {},
     "output_type": "execute_result"
    }
   ],
   "source": [
    "input()"
   ]
  },
  {
   "cell_type": "code",
   "execution_count": 29,
   "id": "b3f76296-b09a-422e-85a7-f55180306977",
   "metadata": {},
   "outputs": [
    {
     "name": "stdin",
     "output_type": "stream",
     "text": [
      "Enter your age  : 23\n"
     ]
    },
    {
     "name": "stdout",
     "output_type": "stream",
     "text": [
      "you are eligible to vote\n"
     ]
    }
   ],
   "source": [
    "age =int(input(\"Enter your age  :\"))\n",
    " ## IF statements \n",
    "\n",
    "if age >= 18:\n",
    "    print (\"you are eligible to vote\")"
   ]
  },
  {
   "cell_type": "code",
   "execution_count": 32,
   "id": "1961d43b-dc77-4c94-abd1-cbdb5c1afb63",
   "metadata": {},
   "outputs": [
    {
     "name": "stdin",
     "output_type": "stream",
     "text": [
      "Enter your age : 17\n"
     ]
    }
   ],
   "source": [
    "###Task \n",
    "##Take anput of age \n",
    "## check whether age >= 18  and age <= 45\n",
    "##Display you  are a young blood\n",
    "\n",
    "age = int(input( \"Enter your age :\"))\n",
    "if age >= 18 and  age <= 45 :\n",
    "    print(\"you are a young  blood\")\n",
    "    \n"
   ]
  },
  {
   "cell_type": "code",
   "execution_count": 33,
   "id": "cf77046b-cab8-47fe-b957-7f98ca7175f9",
   "metadata": {},
   "outputs": [
    {
     "name": "stdin",
     "output_type": "stream",
     "text": [
      "Enter your age : 17\n"
     ]
    },
    {
     "name": "stdout",
     "output_type": "stream",
     "text": [
      "Thankyou nwe will let you know \n"
     ]
    }
   ],
   "source": [
    "## if else statement\n",
    "age = int(input( \"Enter your age :\"))\n",
    "if age >= 18 and  age <= 45 :\n",
    "    print(\"you are a young  blood\")\n",
    "else :\n",
    "    print(\"Thankyou nwe will let you know \")\n",
    "    \n",
    "    \n"
   ]
  },
  {
   "cell_type": "code",
   "execution_count": 39,
   "id": "651f6722-95d1-4501-826c-440be8fba949",
   "metadata": {},
   "outputs": [
    {
     "name": "stdin",
     "output_type": "stream",
     "text": [
      "Enter the price  of product 599\n"
     ]
    },
    {
     "name": "stdout",
     "output_type": "stream",
     "text": [
      "Price of proiduct is 419.3\n"
     ]
    }
   ],
   "source": [
    "price = int (input(\"Enter the price  of product\"))\n",
    "if price >1000:\n",
    "    print (\"Price of proiduct is {}\".format(price - price*0.2))\n",
    "else :\n",
    "     print (\"Price of proiduct is {}\".format(price - price*0.3))"
   ]
  },
  {
   "cell_type": "code",
   "execution_count": 48,
   "id": "c561ea4b-bb8d-4bc1-9942-9819c75ab800",
   "metadata": {},
   "outputs": [
    {
     "name": "stdin",
     "output_type": "stream",
     "text": [
      "Enter the price  of product 900\n"
     ]
    },
    {
     "name": "stdout",
     "output_type": "stream",
     "text": [
      "Price of proiduct is 900\n",
      "Dhanraj \n"
     ]
    }
   ],
   "source": [
    "price = int (input(\"Enter the price  of product\"))\n",
    "if price >3000:\n",
    "    if price ==4000:\n",
    "        print (\"you will get a trip of Goa\")\n",
    "    print (\"Price of proiduct is {}\".format(price - price*0.2))\n",
    "elif price >2000 and price<=3000:\n",
    "    if price ==2999:\n",
    "        print (\"Congratulation you get an additional gift coupan of 500\")\n",
    "    print (\"Price of proiduct is {}\".format(price - price*0.3))\n",
    "\n",
    "elif price>1000 and price <= 2000:\n",
    "     print (\"Price of proiduct is {}\".format(price - price*0.4))\n",
    "else:\n",
    "     print (\"Price of proiduct is {}\".format(price))\n",
    "print(\"Dhanraj \")"
   ]
  },
  {
   "cell_type": "code",
   "execution_count": 49,
   "id": "a03e8ff9-9189-441b-8301-d075b9f3487f",
   "metadata": {},
   "outputs": [],
   "source": [
    "#single statement"
   ]
  },
  {
   "cell_type": "markdown",
   "id": "d2e19e08-cfa7-4dfb-aa1f-12cbd747c1f3",
   "metadata": {},
   "source": [
    "### Loops Statements \n",
    "1.While loop\n",
    "2.for loop\n",
    "3.nested loops\n",
    "4.Loop control(break,continue,pass)"
   ]
  },
  {
   "cell_type": "code",
   "execution_count": 52,
   "id": "7e0c9ca2-21f7-4f6c-8190-2cf907d0da51",
   "metadata": {},
   "outputs": [
    {
     "name": "stdout",
     "output_type": "stream",
     "text": [
      "25\n",
      "26\n",
      "27\n",
      "28\n",
      "29\n",
      "30\n",
      "31\n",
      "32\n",
      "33\n",
      "34\n",
      "35\n",
      "36\n",
      "37\n",
      "38\n",
      "39\n",
      "40\n",
      "41\n",
      "42\n",
      "43\n",
      "44\n",
      "45\n",
      "46\n",
      "47\n",
      "48\n",
      "49\n",
      "50\n",
      "51\n",
      "52\n",
      "53\n",
      "54\n",
      "55\n",
      "56\n",
      "57\n",
      "58\n",
      "59\n",
      "60\n",
      "Its time for retirement\n"
     ]
    }
   ],
   "source": [
    "#while loop\n",
    "joining_age = 25 \n",
    "i= 1\n",
    "while joining_age<=60:\n",
    "    print(joining_age)\n",
    "    joining_age=joining_age+i\n",
    "else:\n",
    "    print(\"Its time for retirement\")\n",
    "\n",
    "    "
   ]
  },
  {
   "cell_type": "code",
   "execution_count": 54,
   "id": "a51bff4c-7a38-45b9-b6f7-0ebdb3e24c12",
   "metadata": {},
   "outputs": [
    {
     "name": "stdout",
     "output_type": "stream",
     "text": [
      "1000\n",
      "900\n",
      "800\n",
      "700\n",
      "600\n",
      "500\n",
      "400\n",
      "300\n",
      "200\n",
      "100\n",
      "Put more money bank people\n"
     ]
    }
   ],
   "source": [
    "### atm machine with 1000 rs\n",
    "amount=1000\n",
    "while amount !=0:\n",
    "    print(amount)\n",
    "    amount=amount-100\n",
    "else:\n",
    "    print(\"Put more money bank people\")"
   ]
  },
  {
   "cell_type": "markdown",
   "id": "0708b9a7-b01f-4fe5-8fba-5f7c8f613559",
   "metadata": {},
   "source": [
    "### FOR Loop\n"
   ]
  },
  {
   "cell_type": "code",
   "execution_count": 57,
   "id": "469e4290-b3be-4497-b179-74bbf88feb60",
   "metadata": {},
   "outputs": [],
   "source": [
    "lst = [ \"Krish\",1,2,3,4,\"apple\",\"banana\"]"
   ]
  },
  {
   "cell_type": "code",
   "execution_count": 58,
   "id": "5a4c94e9-4301-43c9-9692-86eb54086b9b",
   "metadata": {},
   "outputs": [
    {
     "name": "stdout",
     "output_type": "stream",
     "text": [
      "['Krish', 1, 2, 3, 4, 'apple', 'banana']\n"
     ]
    }
   ],
   "source": [
    "print(lst)"
   ]
  },
  {
   "cell_type": "code",
   "execution_count": 59,
   "id": "a9d27731-b0bd-415a-b868-ba439955f3a2",
   "metadata": {},
   "outputs": [
    {
     "data": {
      "text/plain": [
       "list"
      ]
     },
     "execution_count": 59,
     "metadata": {},
     "output_type": "execute_result"
    }
   ],
   "source": [
    "type(lst)\n"
   ]
  },
  {
   "cell_type": "code",
   "execution_count": 61,
   "id": "79cc4faf-99e3-4bf1-b04c-8afcc7ee745d",
   "metadata": {},
   "outputs": [
    {
     "data": {
      "text/plain": [
       "1"
      ]
     },
     "execution_count": 61,
     "metadata": {},
     "output_type": "execute_result"
    }
   ],
   "source": [
    "lst[1]\n",
    "\n"
   ]
  },
  {
   "cell_type": "code",
   "execution_count": 62,
   "id": "fa39c453-2c40-4e37-934e-ae2f5026586d",
   "metadata": {},
   "outputs": [
    {
     "name": "stdout",
     "output_type": "stream",
     "text": [
      "Krish\n",
      "1\n",
      "2\n",
      "3\n",
      "4\n",
      "apple\n",
      "banana\n"
     ]
    }
   ],
   "source": [
    "for x in lst:\n",
    "    print(x)\n"
   ]
  },
  {
   "cell_type": "code",
   "execution_count": 63,
   "id": "01441781-3ee1-45ee-997a-cb448ef69ed4",
   "metadata": {},
   "outputs": [],
   "source": [
    "fruits_list =[\"Mango\",\"Cherry\",\"Apple\",\"papaya\",\"Banana\"]"
   ]
  },
  {
   "cell_type": "code",
   "execution_count": 64,
   "id": "791ca078-78f2-4670-930d-d1f1d5b3e57b",
   "metadata": {},
   "outputs": [
    {
     "name": "stdout",
     "output_type": "stream",
     "text": [
      "Mango\n",
      "Cherry\n",
      "The fruit is cherry\n",
      "Apple\n",
      "papaya\n",
      "Banana\n"
     ]
    }
   ],
   "source": [
    "for a in fruits_list:\n",
    "    print(a)\n",
    "    if a == \"Cherry\":\n",
    "        print(\"The fruit is cherry\")"
   ]
  },
  {
   "cell_type": "code",
   "execution_count": 67,
   "id": "263f81cb-1f15-4050-8daf-48f98e1288f4",
   "metadata": {},
   "outputs": [
    {
     "name": "stdout",
     "output_type": "stream",
     "text": [
      "mango"
     ]
    }
   ],
   "source": [
    "fruit = 'mango'\n",
    "for x in fruit:\n",
    "    print(x,end ='')"
   ]
  },
  {
   "cell_type": "code",
   "execution_count": 66,
   "id": "7576c6a6-615c-4261-bac8-728eaf11245d",
   "metadata": {},
   "outputs": [
    {
     "data": {
      "text/plain": [
       "'m'"
      ]
     },
     "execution_count": 66,
     "metadata": {},
     "output_type": "execute_result"
    }
   ],
   "source": [
    "fruit[0]"
   ]
  },
  {
   "cell_type": "code",
   "execution_count": 68,
   "id": "89403991-4114-4a32-b41e-72d4d148f0c3",
   "metadata": {},
   "outputs": [],
   "source": [
    "##Nested loops\n",
    "n= 7 "
   ]
  },
  {
   "cell_type": "code",
   "execution_count": 69,
   "id": "0e0a85f1-c4da-453f-840e-07b1f1fa5b97",
   "metadata": {},
   "outputs": [
    {
     "data": {
      "text/plain": [
       "range(0, 7)"
      ]
     },
     "execution_count": 69,
     "metadata": {},
     "output_type": "execute_result"
    }
   ],
   "source": [
    "range(7)\n"
   ]
  },
  {
   "cell_type": "code",
   "execution_count": 70,
   "id": "7df997e7-cb52-4c4d-9c09-03d2a9052227",
   "metadata": {},
   "outputs": [
    {
     "data": {
      "text/plain": [
       "range(0, 2, 8)"
      ]
     },
     "execution_count": 70,
     "metadata": {},
     "output_type": "execute_result"
    }
   ],
   "source": [
    "range (0,2,8)\n"
   ]
  },
  {
   "cell_type": "code",
   "execution_count": 73,
   "id": "c8f40c8d-d20f-40f3-925e-29df0f5bfc74",
   "metadata": {},
   "outputs": [
    {
     "name": "stdout",
     "output_type": "stream",
     "text": [
      "1\n",
      "10\n",
      "19\n",
      "28\n",
      "37\n",
      "46\n",
      "55\n",
      "64\n",
      "73\n",
      "82\n",
      "91\n"
     ]
    }
   ],
   "source": [
    "for i in range (1,100,9):\n",
    "    print (i)\n",
    "    "
   ]
  },
  {
   "cell_type": "code",
   "execution_count": 82,
   "id": "1d02f765-f9a4-4291-93e9-8ef44ca80f81",
   "metadata": {},
   "outputs": [
    {
     "name": "stdout",
     "output_type": "stream",
     "text": [
      " \n",
      "* \n",
      "*** \n",
      "****** \n",
      "********** \n",
      "*************** \n",
      "********************* \n"
     ]
    }
   ],
   "source": [
    "### Nested looops\n",
    "n = 7 \n",
    "for i in range (0,n):\n",
    "    for j in range (0,i+1):\n",
    "        for k in range(0,i-j):\n",
    "            print(\"*\",end = \"\")\n",
    "          \n",
    "    print(\" \")\n"
   ]
  },
  {
   "cell_type": "code",
   "execution_count": 83,
   "id": "f165b085-4ee4-442f-b2e3-3c286e1dd53e",
   "metadata": {},
   "outputs": [
    {
     "data": {
      "text/plain": [
       "['Mango', 'Cherry', 'Apple', 'papaya', 'Banana']"
      ]
     },
     "execution_count": 83,
     "metadata": {},
     "output_type": "execute_result"
    }
   ],
   "source": [
    "fruits_list"
   ]
  },
  {
   "cell_type": "code",
   "execution_count": 84,
   "id": "f545fdd9-992e-488c-a26b-1f27c59bd57a",
   "metadata": {},
   "outputs": [
    {
     "name": "stdout",
     "output_type": "stream",
     "text": [
      "Mango\n",
      "Cherry\n",
      "The fruit is apple\n"
     ]
    }
   ],
   "source": [
    "## loop conntrols:\n",
    "## Break and continue\n",
    "for i in fruits_list:\n",
    "    if i ==\"Apple\":\n",
    "        print(\"The fruit is apple\")\n",
    "        break\n",
    "    print(i)\n",
    "\n"
   ]
  },
  {
   "cell_type": "code",
   "execution_count": 85,
   "id": "04c8f818-4212-4bde-af25-47800d0c0500",
   "metadata": {},
   "outputs": [
    {
     "name": "stdout",
     "output_type": "stream",
     "text": [
      "Mango\n",
      "Cherry\n",
      "The fruit is apple\n",
      "Apple\n",
      "papaya\n",
      "Banana\n"
     ]
    }
   ],
   "source": [
    "for i in fruits_list:\n",
    "    if i ==\"Apple\":\n",
    "        print(\"The fruit is apple\")\n",
    "        pass\n",
    "    print(i)\n"
   ]
  },
  {
   "cell_type": "code",
   "execution_count": 86,
   "id": "710e60ca-3d85-4756-ba7b-4da6e188df25",
   "metadata": {},
   "outputs": [
    {
     "name": "stdout",
     "output_type": "stream",
     "text": [
      "Mango\n",
      "Cherry\n",
      "The fruit is apple\n",
      "papaya\n",
      "Banana\n"
     ]
    }
   ],
   "source": [
    "for i in fruits_list:\n",
    "    if i ==\"Apple\":\n",
    "        print(\"The fruit is apple\")\n",
    "        continue\n",
    "    print(i)\n"
   ]
  },
  {
   "cell_type": "code",
   "execution_count": null,
   "id": "b85efae4-e049-470b-8b52-30a85f567eec",
   "metadata": {},
   "outputs": [],
   "source": []
  }
 ],
 "metadata": {
  "kernelspec": {
   "display_name": "Python 3 (ipykernel)",
   "language": "python",
   "name": "python3"
  },
  "language_info": {
   "codemirror_mode": {
    "name": "ipython",
    "version": 3
   },
   "file_extension": ".py",
   "mimetype": "text/x-python",
   "name": "python",
   "nbconvert_exporter": "python",
   "pygments_lexer": "ipython3",
   "version": "3.10.8"
  }
 },
 "nbformat": 4,
 "nbformat_minor": 5
}
