{
 "cells": [
  {
   "cell_type": "markdown",
   "id": "03d7c0ac",
   "metadata": {},
   "source": [
    "### Q1. Which keyword is used to create a function? Create a function to return a list of odd numbers in therange of 1 to 25."
   ]
  },
  {
   "cell_type": "code",
   "execution_count": null,
   "id": "c369584e",
   "metadata": {},
   "outputs": [],
   "source": [
    "Ans : def is used to create function ."
   ]
  },
  {
   "cell_type": "code",
   "execution_count": 14,
   "id": "b845946b",
   "metadata": {},
   "outputs": [
    {
     "name": "stdout",
     "output_type": "stream",
     "text": [
      "[1, 3, 5, 7, 9, 11, 13, 15, 17, 19, 21, 23]\n"
     ]
    }
   ],
   "source": [
    "def get_odd_number():\n",
    "    odd_number = []\n",
    "    for i in range(25):\n",
    "        if i%2!=0:\n",
    "            odd_number.append(i)\n",
    "\n",
    "    return odd_number\n",
    "x = get_odd_number()\n",
    "print(x)"
   ]
  },
  {
   "cell_type": "markdown",
   "id": "f25bde4e",
   "metadata": {},
   "source": [
    "### Q2. Why *args and **kwargs is used in some functions? Create a function each for *args and **kwargs to demonstrate their use."
   ]
  },
  {
   "cell_type": "code",
   "execution_count": null,
   "id": "b153c3b2",
   "metadata": {},
   "outputs": [],
   "source": [
    "Ans:*args is used to pass a variable number of non-keyword  arguments to a function. It allows you to pass an arbitrary number of positional arguments to the function, which are then packed into a tuple within the function. Here's an example:"
   ]
  },
  {
   "cell_type": "code",
   "execution_count": 15,
   "id": "060008d7",
   "metadata": {},
   "outputs": [
    {
     "name": "stdout",
     "output_type": "stream",
     "text": [
      "Arguments:\n",
      "1\n",
      "2\n",
      "3\n",
      "Arguments:\n",
      "hello\n",
      "world\n",
      "Arguments:\n",
      "3.14\n",
      "True\n",
      "apple\n"
     ]
    }
   ],
   "source": [
    "def print_args(*args):\n",
    "    print(\"Arguments:\")\n",
    "    for arg in args:\n",
    "        print(arg)\n",
    "\n",
    "\n",
    "print_args(1, 2, 3)  \n",
    "print_args(\"hello\", \"world\")  \n",
    "print_args(3.14, True, \"apple\") "
   ]
  },
  {
   "cell_type": "code",
   "execution_count": null,
   "id": "f1334507",
   "metadata": {},
   "outputs": [],
   "source": [
    "**kwargs is used to pass a variable number of keyword arguments to a function. It allows you to pass an arbitrary number of keyword arguments to the function, which are then packed into a dictionary within the function. Here's an example"
   ]
  },
  {
   "cell_type": "code",
   "execution_count": 16,
   "id": "3f83a0eb",
   "metadata": {},
   "outputs": [
    {
     "name": "stdout",
     "output_type": "stream",
     "text": [
      "Keyword Arguments:\n",
      "a = 1\n",
      "b = 2\n",
      "c = 3\n",
      "Keyword Arguments:\n",
      "name = Alice\n",
      "age = 30\n",
      "city = New York\n",
      "Keyword Arguments:\n",
      "is_student = True\n",
      "course = Computer Science\n"
     ]
    }
   ],
   "source": [
    "def print_kwargs(**kwargs):\n",
    "    print(\"Keyword Arguments:\")\n",
    "    for key, value in kwargs.items():\n",
    "        print(key, \"=\", value)\n",
    "\n",
    "\n",
    "print_kwargs(a=1, b=2, c=3)  \n",
    "print_kwargs(name=\"Alice\", age=30, city=\"New York\") \n",
    "print_kwargs(is_student=True, course=\"Computer Science\") "
   ]
  },
  {
   "cell_type": "markdown",
   "id": "0c84215c",
   "metadata": {},
   "source": [
    "### Q3.What is an iterator in python? Name the method used to initialise the iterator object and the methodused for iteration. Use these methods to print the first five elements of the given list [2, 4, 6, 8, 10, 12, 14, 16,18, 20]."
   ]
  },
  {
   "cell_type": "code",
   "execution_count": null,
   "id": "d2f1cf00",
   "metadata": {},
   "outputs": [],
   "source": [
    "Ans:an iterator is an object that allows you to iterate (loop) through a collection of items, such as a list or a tuple, one item at a time. The two main methods used with iterators are iter() and next().\n",
    "\n",
    "iter(): This method initializes the iterator object. It returns an iterator object that points to the first element in the collection.\n",
    "next(): This method retrieves the next element from the iterator."
   ]
  },
  {
   "cell_type": "code",
   "execution_count": 17,
   "id": "120eb465",
   "metadata": {},
   "outputs": [
    {
     "name": "stdout",
     "output_type": "stream",
     "text": [
      "2\n",
      "4\n",
      "6\n",
      "8\n",
      "10\n"
     ]
    }
   ],
   "source": [
    "my_list = [2, 4, 6, 8, 10, 12, 14, 16, 18, 20]\n",
    "\n",
    "\n",
    "my_iterator = iter(my_list)\n",
    "\n",
    "\n",
    "for i in range(5):\n",
    "    print(next(my_iterator))"
   ]
  },
  {
   "cell_type": "markdown",
   "id": "0d3ba6d4",
   "metadata": {},
   "source": [
    "### Q4. What is a generator function in python? Why yield keyword is used? Give an example of a generator function."
   ]
  },
  {
   "cell_type": "code",
   "execution_count": null,
   "id": "d8e0d1b6",
   "metadata": {},
   "outputs": [],
   "source": [
    "Ans:A generator function in Python is a special kind of function that uses the yield keyword instead of return to produce a series of values, one at a time, on demand. It allows you to create iterators in a more concise and memory-efficient way compared to using regular functions that return lists.\n",
    "\n",
    "The yield keyword is used in generator functions to produce a value and pause the generator's execution. The generator can be resumed later from where it left off, allowing it to produce values on-the-fly as they are needed, without having to generate all the values at once and store them in memory."
   ]
  },
  {
   "cell_type": "code",
   "execution_count": 19,
   "id": "ffe0fb45",
   "metadata": {},
   "outputs": [
    {
     "name": "stdout",
     "output_type": "stream",
     "text": [
      "1\n",
      "4\n",
      "9\n",
      "16\n",
      "25\n"
     ]
    }
   ],
   "source": [
    "def square_numbers(limit):\n",
    "    n = 1\n",
    "    while n <= limit:\n",
    "        yield n * n\n",
    "        n += 1\n",
    "\n",
    "\n",
    "my_limit = 5\n",
    "my_generator = square_numbers(my_limit)\n",
    "for num in my_generator:\n",
    "    print(num)"
   ]
  },
  {
   "cell_type": "markdown",
   "id": "f5eaba8c",
   "metadata": {},
   "source": [
    "### Q5. Create a generator function for prime numbers less than 1000. Use the next() method to print the first 20 prime numbers."
   ]
  },
  {
   "cell_type": "code",
   "execution_count": 20,
   "id": "79da0b61",
   "metadata": {},
   "outputs": [
    {
     "name": "stdout",
     "output_type": "stream",
     "text": [
      "The first 20 prime numbers less than 1000 are:\n",
      "2\n",
      "3\n",
      "5\n",
      "7\n",
      "11\n",
      "13\n",
      "17\n",
      "19\n",
      "23\n",
      "29\n",
      "31\n",
      "37\n",
      "41\n",
      "43\n",
      "47\n",
      "53\n",
      "59\n",
      "61\n",
      "67\n",
      "71\n"
     ]
    }
   ],
   "source": [
    "def primes_generator(limit):\n",
    "    \"\"\"\n",
    "    Generator function that yields prime numbers less than the given limit.\n",
    "    \"\"\"\n",
    "    primes = []\n",
    "    n = 2\n",
    "    while n < limit:\n",
    "        is_prime = True\n",
    "        for prime in primes:\n",
    "            if prime > int(n**0.5) + 1:\n",
    "                break\n",
    "            if n % prime == 0:\n",
    "                is_prime = False\n",
    "                break\n",
    "        if is_prime:\n",
    "            primes.append(n)\n",
    "            yield n\n",
    "        n += 1\n",
    "\n",
    "my_limit = 1000\n",
    "my_generator = primes_generator(my_limit)\n",
    "\n",
    "# Print the first 20 prime numbers using next()\n",
    "print(\"The first 20 prime numbers less than\", my_limit, \"are:\")\n",
    "for _ in range(20):\n",
    "    print(next(my_generator))"
   ]
  },
  {
   "cell_type": "code",
   "execution_count": null,
   "id": "67e93c3a",
   "metadata": {},
   "outputs": [],
   "source": []
  }
 ],
 "metadata": {
  "kernelspec": {
   "display_name": "Python 3 (ipykernel)",
   "language": "python",
   "name": "python3"
  },
  "language_info": {
   "codemirror_mode": {
    "name": "ipython",
    "version": 3
   },
   "file_extension": ".py",
   "mimetype": "text/x-python",
   "name": "python",
   "nbconvert_exporter": "python",
   "pygments_lexer": "ipython3",
   "version": "3.9.13"
  }
 },
 "nbformat": 4,
 "nbformat_minor": 5
}
