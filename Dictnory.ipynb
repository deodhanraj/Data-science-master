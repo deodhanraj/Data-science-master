{
 "cells": [
  {
   "cell_type": "code",
   "execution_count": 1,
   "id": "1bef81c5-8320-4fcb-ae7a-0646e8f73707",
   "metadata": {},
   "outputs": [],
   "source": [
    "d ={}"
   ]
  },
  {
   "cell_type": "code",
   "execution_count": 2,
   "id": "75878df0-4aa0-4efd-9dc8-373a02752d65",
   "metadata": {},
   "outputs": [
    {
     "data": {
      "text/plain": [
       "dict"
      ]
     },
     "execution_count": 2,
     "metadata": {},
     "output_type": "execute_result"
    }
   ],
   "source": [
    "type(d)"
   ]
  },
  {
   "cell_type": "code",
   "execution_count": 6,
   "id": "a8fa3eba-1ad2-47fe-8a0e-9ff30ea37126",
   "metadata": {},
   "outputs": [],
   "source": [
    "d1 = { \"name\" : \"Dhanraj\", \"id\" : \"deo@gmail.com\",\"number\": 556677}"
   ]
  },
  {
   "cell_type": "code",
   "execution_count": 7,
   "id": "e325a4cd-270f-4bc6-9dd6-d8821da99b83",
   "metadata": {},
   "outputs": [
    {
     "data": {
      "text/plain": [
       "{'name': 'Dhanraj', 'id': 'deo@gmail.com', 'number': 556677}"
      ]
     },
     "execution_count": 7,
     "metadata": {},
     "output_type": "execute_result"
    }
   ],
   "source": [
    "d1"
   ]
  },
  {
   "cell_type": "code",
   "execution_count": 8,
   "id": "aa12e8d6-b5a3-4c25-b270-7d5253908590",
   "metadata": {},
   "outputs": [],
   "source": [
    "d2 = { \"name\" : \"Dhanraj\", \"name\" : \"Dhanno\" }"
   ]
  },
  {
   "cell_type": "code",
   "execution_count": 9,
   "id": "1bdd5b71-e167-43b2-8475-19a0a7228207",
   "metadata": {},
   "outputs": [
    {
     "data": {
      "text/plain": [
       "{'name': 'Dhanno'}"
      ]
     },
     "execution_count": 9,
     "metadata": {},
     "output_type": "execute_result"
    }
   ],
   "source": [
    "d2"
   ]
  },
  {
   "cell_type": "code",
   "execution_count": 12,
   "id": "62586398-1fcb-4a17-bae0-bb82a6eaa91a",
   "metadata": {},
   "outputs": [],
   "source": [
    "d3 = { 1234 : \" abc\"}"
   ]
  },
  {
   "cell_type": "code",
   "execution_count": 13,
   "id": "3938b507-ff9b-402a-b192-4dfe43f4ea9d",
   "metadata": {},
   "outputs": [
    {
     "data": {
      "text/plain": [
       "{1234: ' abc'}"
      ]
     },
     "execution_count": 13,
     "metadata": {},
     "output_type": "execute_result"
    }
   ],
   "source": [
    "d3"
   ]
  },
  {
   "cell_type": "code",
   "execution_count": 14,
   "id": "51627058-3547-4874-b119-88fc0a9c0dbe",
   "metadata": {},
   "outputs": [],
   "source": [
    "d5 = { True : \"pqrs\"}"
   ]
  },
  {
   "cell_type": "code",
   "execution_count": 15,
   "id": "9234a584-ca0b-474f-9550-3a8fc276156e",
   "metadata": {},
   "outputs": [
    {
     "data": {
      "text/plain": [
       "{True: 'pqrs'}"
      ]
     },
     "execution_count": 15,
     "metadata": {},
     "output_type": "execute_result"
    }
   ],
   "source": [
    "d5"
   ]
  },
  {
   "cell_type": "code",
   "execution_count": 16,
   "id": "0f9d5854-ac36-426d-9659-88f0813eb24a",
   "metadata": {},
   "outputs": [
    {
     "ename": "SyntaxError",
     "evalue": "incomplete input (522968507.py, line 1)",
     "output_type": "error",
     "traceback": [
      "\u001b[0;36m  Cell \u001b[0;32mIn[16], line 1\u001b[0;36m\u001b[0m\n\u001b[0;31m    d6 = { # : \"abc\"}\u001b[0m\n\u001b[0m                     ^\u001b[0m\n\u001b[0;31mSyntaxError\u001b[0m\u001b[0;31m:\u001b[0m incomplete input\n"
     ]
    }
   ],
   "source": [
    "d6 = { # : \"abc\"}"
   ]
  },
  {
   "cell_type": "code",
   "execution_count": 18,
   "id": "3069c45a-0268-406b-8747-aab09e91f2ed",
   "metadata": {},
   "outputs": [],
   "source": [
    "d9 = { (1,2,3): \"abc\"}"
   ]
  },
  {
   "cell_type": "code",
   "execution_count": 19,
   "id": "aaec2f63-353a-4237-b54a-7ef9df6549d4",
   "metadata": {},
   "outputs": [
    {
     "data": {
      "text/plain": [
       "{(1, 2, 3): 'abc'}"
      ]
     },
     "execution_count": 19,
     "metadata": {},
     "output_type": "execute_result"
    }
   ],
   "source": [
    "d9"
   ]
  },
  {
   "cell_type": "code",
   "execution_count": 20,
   "id": "754d86f5-ce08-4903-bcb9-da1ae5114944",
   "metadata": {},
   "outputs": [
    {
     "ename": "TypeError",
     "evalue": "unhashable type: 'set'",
     "output_type": "error",
     "traceback": [
      "\u001b[0;31m---------------------------------------------------------------------------\u001b[0m",
      "\u001b[0;31mTypeError\u001b[0m                                 Traceback (most recent call last)",
      "Cell \u001b[0;32mIn[20], line 1\u001b[0m\n\u001b[0;32m----> 1\u001b[0m d10 \u001b[38;5;241m=\u001b[39m { {\u001b[38;5;241m1\u001b[39m,\u001b[38;5;241m2\u001b[39m,\u001b[38;5;241m3\u001b[39m}: \u001b[38;5;124m\"\u001b[39m\u001b[38;5;124mabc\u001b[39m\u001b[38;5;124m\"\u001b[39m}\n",
      "\u001b[0;31mTypeError\u001b[0m: unhashable type: 'set'"
     ]
    }
   ],
   "source": [
    "d10 = { {1,2,3}: \"abc\"}"
   ]
  },
  {
   "cell_type": "code",
   "execution_count": 22,
   "id": "5f345aca-36eb-43fe-9cb0-2cf41f98211b",
   "metadata": {},
   "outputs": [
    {
     "ename": "TypeError",
     "evalue": "unhashable type: 'dict'",
     "output_type": "error",
     "traceback": [
      "\u001b[0;31m---------------------------------------------------------------------------\u001b[0m",
      "\u001b[0;31mTypeError\u001b[0m                                 Traceback (most recent call last)",
      "Cell \u001b[0;32mIn[22], line 1\u001b[0m\n\u001b[0;32m----> 1\u001b[0m d11 \u001b[38;5;241m=\u001b[39m { {\u001b[38;5;124m\"\u001b[39m\u001b[38;5;124mkey\u001b[39m\u001b[38;5;124m\"\u001b[39m: \u001b[38;5;124m\"\u001b[39m\u001b[38;5;124mabc\u001b[39m\u001b[38;5;124m\"\u001b[39m}: \u001b[38;5;124m\"\u001b[39m\u001b[38;5;124mabc\u001b[39m\u001b[38;5;124m\"\u001b[39m}\n",
      "\u001b[0;31mTypeError\u001b[0m: unhashable type: 'dict'"
     ]
    }
   ],
   "source": [
    "d11 = { {\"key\": \"abc\"}: \"abc\"}"
   ]
  },
  {
   "cell_type": "code",
   "execution_count": 24,
   "id": "570e1867-b86c-4950-b927-68856eaed4fc",
   "metadata": {},
   "outputs": [],
   "source": [
    "d13 = {\"key\" :(1,2,3,4,5)}"
   ]
  },
  {
   "cell_type": "code",
   "execution_count": 25,
   "id": "e5162636-ecd0-45b4-a853-3d5501f143d9",
   "metadata": {},
   "outputs": [
    {
     "data": {
      "text/plain": [
       "{'key': (1, 2, 3, 4, 5)}"
      ]
     },
     "execution_count": 25,
     "metadata": {},
     "output_type": "execute_result"
    }
   ],
   "source": [
    "d13"
   ]
  },
  {
   "cell_type": "code",
   "execution_count": 26,
   "id": "de4a7208-feda-42d2-be45-8a4f54e3a879",
   "metadata": {},
   "outputs": [],
   "source": [
    "d14 = {\"key\" : {1,2,34,4,5}}"
   ]
  },
  {
   "cell_type": "code",
   "execution_count": 27,
   "id": "f4611d3a-07af-49bc-9cbb-3f5a4d98df88",
   "metadata": {},
   "outputs": [
    {
     "data": {
      "text/plain": [
       "{'key': {1, 2, 4, 5, 34}}"
      ]
     },
     "execution_count": 27,
     "metadata": {},
     "output_type": "execute_result"
    }
   ],
   "source": [
    "d14"
   ]
  },
  {
   "cell_type": "code",
   "execution_count": 54,
   "id": "5af693a9-adcb-4de7-bdc9-9b2da8732edb",
   "metadata": {},
   "outputs": [],
   "source": [
    "d15 = { \"key\" :{ \"name\" : \"Dhanraj\",\"class\": \"DSM\"}}"
   ]
  },
  {
   "cell_type": "code",
   "execution_count": 29,
   "id": "bde4117f-6dd9-449c-a021-3009bd44d5d8",
   "metadata": {},
   "outputs": [
    {
     "data": {
      "text/plain": [
       "{'key': {'name': 'Dhanraj', 'class': 'DSM'}}"
      ]
     },
     "execution_count": 29,
     "metadata": {},
     "output_type": "execute_result"
    }
   ],
   "source": [
    "d15"
   ]
  },
  {
   "cell_type": "code",
   "execution_count": 31,
   "id": "ef724d97-956a-4bdc-b3cd-940b74615548",
   "metadata": {},
   "outputs": [],
   "source": [
    "d16 = { \"batch_name\":[\"data science masters\",\"web dev\",\"JDS\"],\"start_date\": (28,14,21),\"mentor_name\": {\"krish naik\", \"sudhanshu\",\"navin\",\"hitesh\"}}"
   ]
  },
  {
   "cell_type": "code",
   "execution_count": 32,
   "id": "b8b63147-45b2-44a0-9620-11fd82036a8c",
   "metadata": {},
   "outputs": [
    {
     "data": {
      "text/plain": [
       "{'batch_name': ['data science masters', 'web dev', 'JDS'],\n",
       " 'start_date': (28, 14, 21),\n",
       " 'mentor_name': {'hitesh', 'krish naik', 'navin', 'sudhanshu'}}"
      ]
     },
     "execution_count": 32,
     "metadata": {},
     "output_type": "execute_result"
    }
   ],
   "source": [
    "d16"
   ]
  },
  {
   "cell_type": "code",
   "execution_count": 33,
   "id": "ad504d5d-a1d1-401e-bcc4-1ca241e495b1",
   "metadata": {},
   "outputs": [],
   "source": [
    "d16[ \"timing\" ] = (8,8,8)"
   ]
  },
  {
   "cell_type": "code",
   "execution_count": 34,
   "id": "9c6c5f55-2d2d-4ff9-b842-388afc3566f0",
   "metadata": {},
   "outputs": [
    {
     "data": {
      "text/plain": [
       "{'batch_name': ['data science masters', 'web dev', 'JDS'],\n",
       " 'start_date': (28, 14, 21),\n",
       " 'mentor_name': {'hitesh', 'krish naik', 'navin', 'sudhanshu'},\n",
       " 'timing': (8, 8, 8)}"
      ]
     },
     "execution_count": 34,
     "metadata": {},
     "output_type": "execute_result"
    }
   ],
   "source": [
    "d16"
   ]
  },
  {
   "cell_type": "code",
   "execution_count": 35,
   "id": "f45d50b2-af9d-4b41-90d0-b8d576d03088",
   "metadata": {},
   "outputs": [
    {
     "data": {
      "text/plain": [
       "['data science masters', 'web dev', 'JDS']"
      ]
     },
     "execution_count": 35,
     "metadata": {},
     "output_type": "execute_result"
    }
   ],
   "source": [
    "d16 ['batch_name']"
   ]
  },
  {
   "cell_type": "code",
   "execution_count": 36,
   "id": "bf39f419-a54c-4aa7-ab79-f1a284395920",
   "metadata": {},
   "outputs": [
    {
     "data": {
      "text/plain": [
       "list"
      ]
     },
     "execution_count": 36,
     "metadata": {},
     "output_type": "execute_result"
    }
   ],
   "source": [
    "type(d16 ['batch_name'])"
   ]
  },
  {
   "cell_type": "code",
   "execution_count": 37,
   "id": "39ea3248-4d47-44d9-b0cd-f891a83a4dd8",
   "metadata": {},
   "outputs": [
    {
     "ename": "KeyError",
     "evalue": "'key'",
     "output_type": "error",
     "traceback": [
      "\u001b[0;31m---------------------------------------------------------------------------\u001b[0m",
      "\u001b[0;31mKeyError\u001b[0m                                  Traceback (most recent call last)",
      "Cell \u001b[0;32mIn[37], line 1\u001b[0m\n\u001b[0;32m----> 1\u001b[0m \u001b[43md16\u001b[49m\u001b[43m[\u001b[49m\u001b[38;5;124;43m\"\u001b[39;49m\u001b[38;5;124;43mkey\u001b[39;49m\u001b[38;5;124;43m\"\u001b[39;49m\u001b[43m]\u001b[49m\n",
      "\u001b[0;31mKeyError\u001b[0m: 'key'"
     ]
    }
   ],
   "source": [
    "d16[\"key\"]"
   ]
  },
  {
   "cell_type": "code",
   "execution_count": 38,
   "id": "b3b4e5d6-3149-4314-814d-22b3733fb926",
   "metadata": {},
   "outputs": [],
   "source": [
    "d16 [\"name\"] = \"Dhanraj\""
   ]
  },
  {
   "cell_type": "code",
   "execution_count": 39,
   "id": "e5b045fb-d4ac-4aa7-8ca2-85723ce2ef50",
   "metadata": {},
   "outputs": [
    {
     "data": {
      "text/plain": [
       "{'batch_name': ['data science masters', 'web dev', 'JDS'],\n",
       " 'start_date': (28, 14, 21),\n",
       " 'mentor_name': {'hitesh', 'krish naik', 'navin', 'sudhanshu'},\n",
       " 'timing': (8, 8, 8),\n",
       " 'name': 'Dhanraj'}"
      ]
     },
     "execution_count": 39,
     "metadata": {},
     "output_type": "execute_result"
    }
   ],
   "source": [
    "d16"
   ]
  },
  {
   "cell_type": "code",
   "execution_count": 40,
   "id": "71990af0-f082-4450-900d-b0bf5283e404",
   "metadata": {},
   "outputs": [
    {
     "data": {
      "text/plain": [
       "'Dhanraj'"
      ]
     },
     "execution_count": 40,
     "metadata": {},
     "output_type": "execute_result"
    }
   ],
   "source": [
    "d16 [\"name\"] "
   ]
  },
  {
   "cell_type": "code",
   "execution_count": 41,
   "id": "292c85af-612f-49d7-92ab-4c267e3fab8f",
   "metadata": {},
   "outputs": [
    {
     "data": {
      "text/plain": [
       "<function str.capitalize()>"
      ]
     },
     "execution_count": 41,
     "metadata": {},
     "output_type": "execute_result"
    }
   ],
   "source": [
    "d16 [\"name\"] .capitalize"
   ]
  },
  {
   "cell_type": "code",
   "execution_count": 45,
   "id": "553d83b5-ffdd-4af4-b637-b533e634bf4f",
   "metadata": {},
   "outputs": [
    {
     "data": {
      "text/plain": [
       "<function str.upper()>"
      ]
     },
     "execution_count": 45,
     "metadata": {},
     "output_type": "execute_result"
    }
   ],
   "source": [
    "d16 [\"name\"].upper"
   ]
  },
  {
   "cell_type": "code",
   "execution_count": 46,
   "id": "b77fd584-96d1-4e98-97f3-c8a69d8591db",
   "metadata": {},
   "outputs": [
    {
     "data": {
      "text/plain": [
       "'Dhanraj'"
      ]
     },
     "execution_count": 46,
     "metadata": {},
     "output_type": "execute_result"
    }
   ],
   "source": [
    "d16 [\"name\"] "
   ]
  },
  {
   "cell_type": "code",
   "execution_count": 47,
   "id": "4413fb5e-a249-43d9-9582-42949c7d724f",
   "metadata": {},
   "outputs": [
    {
     "data": {
      "text/plain": [
       "{'key': {'name': 'Dhanraj', 'class': 'DSM'}}"
      ]
     },
     "execution_count": 47,
     "metadata": {},
     "output_type": "execute_result"
    }
   ],
   "source": [
    "d15 "
   ]
  },
  {
   "cell_type": "code",
   "execution_count": 48,
   "id": "d75dff40-ab52-4dc8-bb5a-d06033f09683",
   "metadata": {},
   "outputs": [
    {
     "data": {
      "text/plain": [
       "{'name': 'Dhanraj', 'class': 'DSM'}"
      ]
     },
     "execution_count": 48,
     "metadata": {},
     "output_type": "execute_result"
    }
   ],
   "source": [
    "d15['key']"
   ]
  },
  {
   "cell_type": "code",
   "execution_count": 49,
   "id": "064914d6-fc38-4550-b992-b16ebc69e09f",
   "metadata": {},
   "outputs": [
    {
     "data": {
      "text/plain": [
       "dict"
      ]
     },
     "execution_count": 49,
     "metadata": {},
     "output_type": "execute_result"
    }
   ],
   "source": [
    "type(d15['key'])"
   ]
  },
  {
   "cell_type": "code",
   "execution_count": 50,
   "id": "0a279818-e0b9-4ecb-a98d-49d933969390",
   "metadata": {},
   "outputs": [
    {
     "data": {
      "text/plain": [
       "'DSM'"
      ]
     },
     "execution_count": 50,
     "metadata": {},
     "output_type": "execute_result"
    }
   ],
   "source": [
    "d15['key']['class']"
   ]
  },
  {
   "cell_type": "code",
   "execution_count": 55,
   "id": "fbe0e233-ac32-4d98-aae5-ee400e3aaadb",
   "metadata": {},
   "outputs": [],
   "source": [
    "d15['key'] = \"abc\""
   ]
  },
  {
   "cell_type": "code",
   "execution_count": 56,
   "id": "7526c4be-24bb-4a80-89f6-ca6e02cc358d",
   "metadata": {},
   "outputs": [
    {
     "data": {
      "text/plain": [
       "{'key': 'abc'}"
      ]
     },
     "execution_count": 56,
     "metadata": {},
     "output_type": "execute_result"
    }
   ],
   "source": [
    "d15"
   ]
  },
  {
   "cell_type": "code",
   "execution_count": 57,
   "id": "a2e88464-ae03-4d32-aa3d-9002bb6e12ae",
   "metadata": {},
   "outputs": [],
   "source": [
    "d15 = { \"key\" :{ \"name\" : \"Dhanraj\",\"class\": \"DSM\"}}"
   ]
  },
  {
   "cell_type": "code",
   "execution_count": 58,
   "id": "d5ab1a09-c919-4393-8319-869ac3687afc",
   "metadata": {},
   "outputs": [
    {
     "data": {
      "text/plain": [
       "{'key': {'name': 'Dhanraj', 'class': 'DSM'}}"
      ]
     },
     "execution_count": 58,
     "metadata": {},
     "output_type": "execute_result"
    }
   ],
   "source": [
    "d15"
   ]
  },
  {
   "cell_type": "code",
   "execution_count": 59,
   "id": "bd553212-fc7c-4fbd-833c-60d9ada3736f",
   "metadata": {},
   "outputs": [],
   "source": [
    "d15['key'] = \"abc\""
   ]
  },
  {
   "cell_type": "code",
   "execution_count": 60,
   "id": "aadc3283-a239-4689-a68f-da42900860f7",
   "metadata": {},
   "outputs": [
    {
     "data": {
      "text/plain": [
       "{'key': 'abc'}"
      ]
     },
     "execution_count": 60,
     "metadata": {},
     "output_type": "execute_result"
    }
   ],
   "source": [
    "d15"
   ]
  },
  {
   "cell_type": "code",
   "execution_count": 61,
   "id": "6c5b7d3a-6be6-47a7-b02d-57da26de17db",
   "metadata": {},
   "outputs": [
    {
     "data": {
      "text/plain": [
       "{'batch_name': ['data science masters', 'web dev', 'JDS'],\n",
       " 'start_date': (28, 14, 21),\n",
       " 'mentor_name': {'hitesh', 'krish naik', 'navin', 'sudhanshu'},\n",
       " 'timing': (8, 8, 8),\n",
       " 'name': 'Dhanraj'}"
      ]
     },
     "execution_count": 61,
     "metadata": {},
     "output_type": "execute_result"
    }
   ],
   "source": [
    "d16"
   ]
  },
  {
   "cell_type": "code",
   "execution_count": 62,
   "id": "19e90bee-89ed-48f4-a05b-899ff34f79e5",
   "metadata": {},
   "outputs": [
    {
     "data": {
      "text/plain": [
       "5"
      ]
     },
     "execution_count": 62,
     "metadata": {},
     "output_type": "execute_result"
    }
   ],
   "source": [
    "len(d16)"
   ]
  },
  {
   "cell_type": "code",
   "execution_count": 63,
   "id": "36cc5a5b-4aa8-4ebb-b0e3-4b7ccf0eb489",
   "metadata": {},
   "outputs": [
    {
     "data": {
      "text/plain": [
       "dict_keys(['batch_name', 'start_date', 'mentor_name', 'timing', 'name'])"
      ]
     },
     "execution_count": 63,
     "metadata": {},
     "output_type": "execute_result"
    }
   ],
   "source": [
    "d16.keys()"
   ]
  },
  {
   "cell_type": "code",
   "execution_count": 64,
   "id": "9cbdd7a9-23d5-4b91-95f6-c5cce62d45c5",
   "metadata": {},
   "outputs": [
    {
     "data": {
      "text/plain": [
       "dict_values([['data science masters', 'web dev', 'JDS'], (28, 14, 21), {'navin', 'sudhanshu', 'krish naik', 'hitesh'}, (8, 8, 8), 'Dhanraj'])"
      ]
     },
     "execution_count": 64,
     "metadata": {},
     "output_type": "execute_result"
    }
   ],
   "source": [
    "d16.values()"
   ]
  },
  {
   "cell_type": "code",
   "execution_count": 65,
   "id": "c5f53999-e43b-4f2b-811c-6ece116089b3",
   "metadata": {},
   "outputs": [],
   "source": [
    "d16_keys = [d16.keys()]\n",
    "d16_values = [ d16.values()]"
   ]
  },
  {
   "cell_type": "code",
   "execution_count": 66,
   "id": "721f0132-1e96-4179-99c2-827f0b345cfb",
   "metadata": {},
   "outputs": [
    {
     "data": {
      "text/plain": [
       "[dict_keys(['batch_name', 'start_date', 'mentor_name', 'timing', 'name'])]"
      ]
     },
     "execution_count": 66,
     "metadata": {},
     "output_type": "execute_result"
    }
   ],
   "source": [
    "d16_keys"
   ]
  },
  {
   "cell_type": "code",
   "execution_count": 67,
   "id": "cb377ef3-5343-41fb-ad68-4b7910f040d0",
   "metadata": {},
   "outputs": [
    {
     "data": {
      "text/plain": [
       "[dict_values([['data science masters', 'web dev', 'JDS'], (28, 14, 21), {'navin', 'sudhanshu', 'krish naik', 'hitesh'}, (8, 8, 8), 'Dhanraj'])]"
      ]
     },
     "execution_count": 67,
     "metadata": {},
     "output_type": "execute_result"
    }
   ],
   "source": [
    "d16_values"
   ]
  },
  {
   "cell_type": "code",
   "execution_count": 69,
   "id": "9c2ac3e1-1df2-425c-ab0a-72ced076d6e5",
   "metadata": {},
   "outputs": [
    {
     "data": {
      "text/plain": [
       "[('batch_name', ['data science masters', 'web dev', 'JDS']),\n",
       " ('start_date', (28, 14, 21)),\n",
       " ('mentor_name', {'hitesh', 'krish naik', 'navin', 'sudhanshu'}),\n",
       " ('timing', (8, 8, 8)),\n",
       " ('name', 'Dhanraj')]"
      ]
     },
     "execution_count": 69,
     "metadata": {},
     "output_type": "execute_result"
    }
   ],
   "source": [
    "list(d16.items())"
   ]
  },
  {
   "cell_type": "code",
   "execution_count": 70,
   "id": "2ad6d5ed-543e-4db7-a6b4-c8b4b593d13b",
   "metadata": {},
   "outputs": [
    {
     "data": {
      "text/plain": [
       "{'batch_name': ['data science masters', 'web dev', 'JDS'],\n",
       " 'start_date': (28, 14, 21),\n",
       " 'mentor_name': {'hitesh', 'krish naik', 'navin', 'sudhanshu'},\n",
       " 'timing': (8, 8, 8),\n",
       " 'name': 'Dhanraj'}"
      ]
     },
     "execution_count": 70,
     "metadata": {},
     "output_type": "execute_result"
    }
   ],
   "source": [
    "d16"
   ]
  },
  {
   "cell_type": "code",
   "execution_count": 71,
   "id": "8420d003-4e20-431d-be46-25c225288b57",
   "metadata": {},
   "outputs": [],
   "source": [
    "d17= d16.copy()"
   ]
  },
  {
   "cell_type": "code",
   "execution_count": 72,
   "id": "f8bc6a21-c769-401f-8658-952c4679e71e",
   "metadata": {},
   "outputs": [
    {
     "data": {
      "text/plain": [
       "{'batch_name': ['data science masters', 'web dev', 'JDS'],\n",
       " 'start_date': (28, 14, 21),\n",
       " 'mentor_name': {'hitesh', 'krish naik', 'navin', 'sudhanshu'},\n",
       " 'timing': (8, 8, 8),\n",
       " 'name': 'Dhanraj'}"
      ]
     },
     "execution_count": 72,
     "metadata": {},
     "output_type": "execute_result"
    }
   ],
   "source": [
    "d17"
   ]
  },
  {
   "cell_type": "code",
   "execution_count": 73,
   "id": "028db407-4f50-4467-90c9-e20396248d76",
   "metadata": {},
   "outputs": [],
   "source": [
    "d18 = d16"
   ]
  },
  {
   "cell_type": "code",
   "execution_count": 74,
   "id": "d10d6cb1-f44f-4f63-8930-09cbdf7c991e",
   "metadata": {},
   "outputs": [
    {
     "data": {
      "text/plain": [
       "{'batch_name': ['data science masters', 'web dev', 'JDS'],\n",
       " 'start_date': (28, 14, 21),\n",
       " 'mentor_name': {'hitesh', 'krish naik', 'navin', 'sudhanshu'},\n",
       " 'timing': (8, 8, 8),\n",
       " 'name': 'Dhanraj'}"
      ]
     },
     "execution_count": 74,
     "metadata": {},
     "output_type": "execute_result"
    }
   ],
   "source": [
    "d18"
   ]
  },
  {
   "cell_type": "code",
   "execution_count": 75,
   "id": "5adcecad-e296-4c05-9edf-1bb42be9ce99",
   "metadata": {},
   "outputs": [],
   "source": [
    "del d16['name']"
   ]
  },
  {
   "cell_type": "code",
   "execution_count": 76,
   "id": "350ebb00-0c47-481e-8ef0-d45e7fffe2e1",
   "metadata": {},
   "outputs": [
    {
     "data": {
      "text/plain": [
       "{'batch_name': ['data science masters', 'web dev', 'JDS'],\n",
       " 'start_date': (28, 14, 21),\n",
       " 'mentor_name': {'hitesh', 'krish naik', 'navin', 'sudhanshu'},\n",
       " 'timing': (8, 8, 8)}"
      ]
     },
     "execution_count": 76,
     "metadata": {},
     "output_type": "execute_result"
    }
   ],
   "source": [
    "d16\n"
   ]
  },
  {
   "cell_type": "code",
   "execution_count": 77,
   "id": "606a5ed2-d877-497c-819a-29d245c3c419",
   "metadata": {},
   "outputs": [
    {
     "data": {
      "text/plain": [
       "{'batch_name': ['data science masters', 'web dev', 'JDS'],\n",
       " 'start_date': (28, 14, 21),\n",
       " 'mentor_name': {'hitesh', 'krish naik', 'navin', 'sudhanshu'},\n",
       " 'timing': (8, 8, 8),\n",
       " 'name': 'Dhanraj'}"
      ]
     },
     "execution_count": 77,
     "metadata": {},
     "output_type": "execute_result"
    }
   ],
   "source": [
    "d17"
   ]
  },
  {
   "cell_type": "code",
   "execution_count": 78,
   "id": "1137402e-7aeb-4fd6-8372-c969d531f579",
   "metadata": {},
   "outputs": [
    {
     "data": {
      "text/plain": [
       "{'batch_name': ['data science masters', 'web dev', 'JDS'],\n",
       " 'start_date': (28, 14, 21),\n",
       " 'mentor_name': {'hitesh', 'krish naik', 'navin', 'sudhanshu'},\n",
       " 'timing': (8, 8, 8)}"
      ]
     },
     "execution_count": 78,
     "metadata": {},
     "output_type": "execute_result"
    }
   ],
   "source": [
    "d18"
   ]
  },
  {
   "cell_type": "code",
   "execution_count": 80,
   "id": "cb7e459d-86b9-49c7-b20d-15027cc202d7",
   "metadata": {},
   "outputs": [
    {
     "data": {
      "text/plain": [
       "(8, 8, 8)"
      ]
     },
     "execution_count": 80,
     "metadata": {},
     "output_type": "execute_result"
    }
   ],
   "source": [
    "d16.pop('timing')"
   ]
  },
  {
   "cell_type": "code",
   "execution_count": 81,
   "id": "b78aecf0-1584-4afa-b83a-4dc41b8e772c",
   "metadata": {},
   "outputs": [
    {
     "data": {
      "text/plain": [
       "{'batch_name': ['data science masters', 'web dev', 'JDS'],\n",
       " 'start_date': (28, 14, 21),\n",
       " 'mentor_name': {'hitesh', 'krish naik', 'navin', 'sudhanshu'}}"
      ]
     },
     "execution_count": 81,
     "metadata": {},
     "output_type": "execute_result"
    }
   ],
   "source": [
    "d16"
   ]
  },
  {
   "cell_type": "code",
   "execution_count": 82,
   "id": "7eb6344c-0efa-4cd8-86ae-ee5cb9004d4c",
   "metadata": {},
   "outputs": [
    {
     "data": {
      "text/plain": [
       "{'hitesh', 'krish naik', 'navin', 'sudhanshu'}"
      ]
     },
     "execution_count": 82,
     "metadata": {},
     "output_type": "execute_result"
    }
   ],
   "source": [
    "d16.pop('mentor_name')"
   ]
  },
  {
   "cell_type": "code",
   "execution_count": 83,
   "id": "93151f5c-a65a-412a-813c-f9246eacda35",
   "metadata": {},
   "outputs": [
    {
     "data": {
      "text/plain": [
       "{'batch_name': ['data science masters', 'web dev', 'JDS'],\n",
       " 'start_date': (28, 14, 21)}"
      ]
     },
     "execution_count": 83,
     "metadata": {},
     "output_type": "execute_result"
    }
   ],
   "source": [
    "d16\n"
   ]
  },
  {
   "cell_type": "code",
   "execution_count": 84,
   "id": "bd32d24c-5ea5-49fe-93f6-4f7d64676283",
   "metadata": {},
   "outputs": [
    {
     "data": {
      "text/plain": [
       "{1: ('a', 'b', 'c'), 2: ('a', 'b', 'c'), 3: ('a', 'b', 'c')}"
      ]
     },
     "execution_count": 84,
     "metadata": {},
     "output_type": "execute_result"
    }
   ],
   "source": [
    "d.fromkeys((1,2,3),('a','b','c'))"
   ]
  },
  {
   "cell_type": "code",
   "execution_count": 85,
   "id": "bfe396a2-de37-4d7d-a966-cf6d4bff8258",
   "metadata": {},
   "outputs": [],
   "source": [
    "d19 = {\"key1\": \"value\" ,\"key2\" : \"value2\"}\n",
    "d20 = { \"key3\" : \"value3\" ,\"key4\" : \"value4\"}"
   ]
  },
  {
   "cell_type": "code",
   "execution_count": 86,
   "id": "305b782f-5d12-4fca-80cd-f2f7a2d1a0ef",
   "metadata": {},
   "outputs": [
    {
     "data": {
      "text/plain": [
       "({'key1': 'value', 'key2': 'value2'}, {'key3': 'value3', 'key4': 'value4'})"
      ]
     },
     "execution_count": 86,
     "metadata": {},
     "output_type": "execute_result"
    }
   ],
   "source": [
    "(d19,d20)"
   ]
  },
  {
   "cell_type": "code",
   "execution_count": 88,
   "id": "c2b2e25b-585a-472a-86f7-683a8e871d3b",
   "metadata": {},
   "outputs": [],
   "source": [
    "d19.update(d20)"
   ]
  },
  {
   "cell_type": "code",
   "execution_count": 90,
   "id": "ed4253f4-e104-4db3-ae21-e4cb193046e5",
   "metadata": {},
   "outputs": [
    {
     "data": {
      "text/plain": [
       "{'key1': 'value', 'key2': 'value2', 'key3': 'value3', 'key4': 'value4'}"
      ]
     },
     "execution_count": 90,
     "metadata": {},
     "output_type": "execute_result"
    }
   ],
   "source": [
    "d19"
   ]
  },
  {
   "cell_type": "code",
   "execution_count": 91,
   "id": "fff3e60d-e2c1-4df0-b66d-37114a6ff9ad",
   "metadata": {},
   "outputs": [
    {
     "data": {
      "text/plain": [
       "{'key3': 'value3', 'key4': 'value4'}"
      ]
     },
     "execution_count": 91,
     "metadata": {},
     "output_type": "execute_result"
    }
   ],
   "source": [
    "d20"
   ]
  },
  {
   "cell_type": "code",
   "execution_count": 92,
   "id": "f167a08e-cdd3-4078-bf2a-f21230f29d2b",
   "metadata": {},
   "outputs": [],
   "source": [
    "d20.update(d16)"
   ]
  },
  {
   "cell_type": "code",
   "execution_count": 93,
   "id": "3d9acf7b-e215-463e-bcdb-37666a16a8d4",
   "metadata": {},
   "outputs": [
    {
     "data": {
      "text/plain": [
       "{'key3': 'value3',\n",
       " 'key4': 'value4',\n",
       " 'batch_name': ['data science masters', 'web dev', 'JDS'],\n",
       " 'start_date': (28, 14, 21)}"
      ]
     },
     "execution_count": 93,
     "metadata": {},
     "output_type": "execute_result"
    }
   ],
   "source": [
    "d20"
   ]
  },
  {
   "cell_type": "code",
   "execution_count": 96,
   "id": "cf8246e7-0985-4da3-a2f1-1923d589aa71",
   "metadata": {},
   "outputs": [
    {
     "data": {
      "text/plain": [
       "'value3'"
      ]
     },
     "execution_count": 96,
     "metadata": {},
     "output_type": "execute_result"
    }
   ],
   "source": [
    "d20.get(\"key3\")"
   ]
  },
  {
   "cell_type": "code",
   "execution_count": 97,
   "id": "88f0cc76-55c7-4159-bb64-4e14400f1c4c",
   "metadata": {},
   "outputs": [
    {
     "data": {
      "text/plain": [
       "'value3'"
      ]
     },
     "execution_count": 97,
     "metadata": {},
     "output_type": "execute_result"
    }
   ],
   "source": [
    "d20[\"key3\"]"
   ]
  },
  {
   "cell_type": "markdown",
   "id": "7aff79df-9245-4cf5-a727-6c60be1bf284",
   "metadata": {},
   "source": [
    "## Dictnory Comprehension"
   ]
  },
  {
   "cell_type": "code",
   "execution_count": 102,
   "id": "60ca5720-1db1-4b39-90bb-0967b023d143",
   "metadata": {},
   "outputs": [
    {
     "data": {
      "text/plain": [
       "{1, 2, 3, 4, 5, 6, 7, 8, 9, 10}"
      ]
     },
     "execution_count": 102,
     "metadata": {},
     "output_type": "execute_result"
    }
   ],
   "source": [
    "{  i for i in range (1,11)}"
   ]
  },
  {
   "cell_type": "code",
   "execution_count": 103,
   "id": "914c8b0b-62dc-48a5-9cb4-c0c385d46011",
   "metadata": {},
   "outputs": [
    {
     "data": {
      "text/plain": [
       "{1: 1, 2: 4, 3: 9, 4: 16, 5: 25, 6: 36, 7: 49, 8: 64, 9: 81, 10: 100}"
      ]
     },
     "execution_count": 103,
     "metadata": {},
     "output_type": "execute_result"
    }
   ],
   "source": [
    "{ i: i**2 for i in range (1,11)}"
   ]
  },
  {
   "cell_type": "code",
   "execution_count": 104,
   "id": "e457f652-0f64-4345-a50a-db4740767385",
   "metadata": {},
   "outputs": [
    {
     "data": {
      "text/plain": [
       "{1: 11, 2: 12, 3: 13, 4: 14, 5: 15, 6: 16, 7: 17, 8: 18, 9: 19, 10: 20}"
      ]
     },
     "execution_count": 104,
     "metadata": {},
     "output_type": "execute_result"
    }
   ],
   "source": [
    " { i: i+10 for i in range (1,11)}"
   ]
  },
  {
   "cell_type": "code",
   "execution_count": 106,
   "id": "ad648876-5473-4c75-89eb-8e284011b8e1",
   "metadata": {},
   "outputs": [
    {
     "data": {
      "text/plain": [
       "{1: 0.0,\n",
       " 2: 0.3010299956639812,\n",
       " 3: 0.47712125471966244,\n",
       " 4: 0.6020599913279624,\n",
       " 5: 0.6989700043360189,\n",
       " 6: 0.7781512503836436,\n",
       " 7: 0.8450980400142568,\n",
       " 8: 0.9030899869919435,\n",
       " 9: 0.9542425094393249,\n",
       " 10: 1.0}"
      ]
     },
     "execution_count": 106,
     "metadata": {},
     "output_type": "execute_result"
    }
   ],
   "source": [
    "import math\n",
    "{ i : math.log10(i) for i in range (1,11)}"
   ]
  },
  {
   "cell_type": "code",
   "execution_count": 107,
   "id": "4787b5bc-0fda-4d87-a1aa-c067c0189ce7",
   "metadata": {},
   "outputs": [
    {
     "data": {
      "text/plain": [
       "{'batch_name': ['data science masters', 'web dev', 'JDS'],\n",
       " 'start_date': (28, 14, 21)}"
      ]
     },
     "execution_count": 107,
     "metadata": {},
     "output_type": "execute_result"
    }
   ],
   "source": [
    "d16\n"
   ]
  },
  {
   "cell_type": "code",
   "execution_count": 108,
   "id": "52127b1d-d897-42f0-b079-d712cb9ef122",
   "metadata": {},
   "outputs": [
    {
     "data": {
      "text/plain": [
       "True"
      ]
     },
     "execution_count": 108,
     "metadata": {},
     "output_type": "execute_result"
    }
   ],
   "source": [
    "'batch_name' in d16"
   ]
  },
  {
   "cell_type": "code",
   "execution_count": 110,
   "id": "1cae2443-55f9-4bd8-83d3-dac094e5cbad",
   "metadata": {},
   "outputs": [],
   "source": [
    "import math\n",
    "d21 = { i : math.log10(i) for i in range (1,11)}"
   ]
  },
  {
   "cell_type": "code",
   "execution_count": 111,
   "id": "2dda22f0-a812-451a-9af4-383780c10b49",
   "metadata": {},
   "outputs": [
    {
     "data": {
      "text/plain": [
       "{1: 0.0,\n",
       " 2: 0.3010299956639812,\n",
       " 3: 0.47712125471966244,\n",
       " 4: 0.6020599913279624,\n",
       " 5: 0.6989700043360189,\n",
       " 6: 0.7781512503836436,\n",
       " 7: 0.8450980400142568,\n",
       " 8: 0.9030899869919435,\n",
       " 9: 0.9542425094393249,\n",
       " 10: 1.0}"
      ]
     },
     "execution_count": 111,
     "metadata": {},
     "output_type": "execute_result"
    }
   ],
   "source": [
    "d21\n"
   ]
  },
  {
   "cell_type": "code",
   "execution_count": 113,
   "id": "daa5759d-be08-420a-b128-97555af7cf8c",
   "metadata": {},
   "outputs": [
    {
     "data": {
      "text/plain": [
       "dict_keys([1, 2, 3, 4, 5, 6, 7, 8, 9, 10])"
      ]
     },
     "execution_count": 113,
     "metadata": {},
     "output_type": "execute_result"
    }
   ],
   "source": [
    " d21.keys()"
   ]
  },
  {
   "cell_type": "code",
   "execution_count": 114,
   "id": "b77742b5-318e-4d09-be64-b18fe2fd19c0",
   "metadata": {},
   "outputs": [
    {
     "name": "stdout",
     "output_type": "stream",
     "text": [
      "1\n",
      "2\n",
      "3\n",
      "4\n",
      "5\n",
      "6\n",
      "7\n",
      "8\n",
      "9\n",
      "10\n"
     ]
    }
   ],
   "source": [
    "for i in d21.keys():\n",
    "    print(i)"
   ]
  },
  {
   "cell_type": "code",
   "execution_count": 116,
   "id": "c728f64a-8518-4335-8384-3e4bf3ae7f57",
   "metadata": {},
   "outputs": [
    {
     "name": "stdout",
     "output_type": "stream",
     "text": [
      "2 = 0.3010299956639812\n",
      "4 = 0.6020599913279624\n",
      "6 = 0.7781512503836436\n",
      "8 = 0.9030899869919435\n",
      "10 = 1.0\n"
     ]
    }
   ],
   "source": [
    "for i in d21.keys():\n",
    "    if i%2 ==0:\n",
    "        print(i,\"=\", d21[i])"
   ]
  },
  {
   "cell_type": "code",
   "execution_count": null,
   "id": "b9f2ad07-9000-4747-85f7-8adcd14c88bc",
   "metadata": {},
   "outputs": [],
   "source": []
  }
 ],
 "metadata": {
  "kernelspec": {
   "display_name": "Python 3 (ipykernel)",
   "language": "python",
   "name": "python3"
  },
  "language_info": {
   "codemirror_mode": {
    "name": "ipython",
    "version": 3
   },
   "file_extension": ".py",
   "mimetype": "text/x-python",
   "name": "python",
   "nbconvert_exporter": "python",
   "pygments_lexer": "ipython3",
   "version": "3.10.8"
  }
 },
 "nbformat": 4,
 "nbformat_minor": 5
}
