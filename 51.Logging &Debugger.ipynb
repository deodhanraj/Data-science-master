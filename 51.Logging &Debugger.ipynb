{
 "cells": [
  {
   "cell_type": "code",
   "execution_count": 1,
   "id": "67b17772",
   "metadata": {},
   "outputs": [
    {
     "name": "stdout",
     "output_type": "stream",
     "text": [
      "thius is my name \n"
     ]
    }
   ],
   "source": [
    "print(\"thius is my name \")"
   ]
  },
  {
   "cell_type": "code",
   "execution_count": 15,
   "id": "1194a08d",
   "metadata": {},
   "outputs": [],
   "source": [
    "  import logging"
   ]
  },
  {
   "cell_type": "code",
   "execution_count": 3,
   "id": "65bf77ca",
   "metadata": {},
   "outputs": [],
   "source": [
    "logging.basicConfig(filename = \"test.log\",level = logging.INFO)"
   ]
  },
  {
   "cell_type": "code",
   "execution_count": 5,
   "id": "23508ae2",
   "metadata": {},
   "outputs": [],
   "source": [
    "logging.info(\"this is my line of execution.oo7\")"
   ]
  },
  {
   "cell_type": "code",
   "execution_count": 6,
   "id": "aee75028",
   "metadata": {},
   "outputs": [],
   "source": [
    "logging.error(\"this is my error\")"
   ]
  },
  {
   "cell_type": "code",
   "execution_count": 7,
   "id": "edeb7965",
   "metadata": {},
   "outputs": [],
   "source": [
    "logging.critical(\"this my critical\")"
   ]
  },
  {
   "cell_type": "markdown",
   "id": "0baa81b5",
   "metadata": {},
   "source": [
    "1.NOSET\n",
    "2.DEBUG\n",
    "3.INFO\n",
    "4.WARNING\n",
    "5.ERROR\n",
    "6.CRITICAL"
   ]
  },
  {
   "cell_type": "code",
   "execution_count": 9,
   "id": "58622a51",
   "metadata": {},
   "outputs": [],
   "source": [
    "logging.warning(\"this is my warning\")"
   ]
  },
  {
   "cell_type": "code",
   "execution_count": 10,
   "id": "e726cce2",
   "metadata": {},
   "outputs": [],
   "source": [
    "logging.debug(\"this is my debug\")"
   ]
  },
  {
   "cell_type": "code",
   "execution_count": 11,
   "id": "dbcecb4d",
   "metadata": {},
   "outputs": [
    {
     "ename": "AttributeError",
     "evalue": "module 'logging' has no attribute 'noset'",
     "output_type": "error",
     "traceback": [
      "\u001b[1;31m---------------------------------------------------------------------------\u001b[0m",
      "\u001b[1;31mAttributeError\u001b[0m                            Traceback (most recent call last)",
      "\u001b[1;32m~\\AppData\\Local\\Temp\\ipykernel_1468\\4020266339.py\u001b[0m in \u001b[0;36m<module>\u001b[1;34m\u001b[0m\n\u001b[1;32m----> 1\u001b[1;33m \u001b[0mlogging\u001b[0m\u001b[1;33m.\u001b[0m\u001b[0mnoset\u001b[0m\u001b[1;33m(\u001b[0m\u001b[1;34m\"this is my noset related log\"\u001b[0m\u001b[1;33m)\u001b[0m\u001b[1;33m\u001b[0m\u001b[1;33m\u001b[0m\u001b[0m\n\u001b[0m",
      "\u001b[1;31mAttributeError\u001b[0m: module 'logging' has no attribute 'noset'"
     ]
    }
   ],
   "source": [
    "logging.noset(\"this is my noset related log\")"
   ]
  },
  {
   "cell_type": "code",
   "execution_count": 12,
   "id": "e0ab4233",
   "metadata": {},
   "outputs": [],
   "source": [
    "logging.shutdown()"
   ]
  },
  {
   "cell_type": "code",
   "execution_count": 24,
   "id": "e3d37787",
   "metadata": {},
   "outputs": [],
   "source": [
    "import logging\n",
    "\n",
    "logging.basicConfig(filename=\"test007.log\", level=logging.DEBUG, format='%(asctime)s %(message)s')\n"
   ]
  },
  {
   "cell_type": "code",
   "execution_count": 25,
   "id": "6b3af44b",
   "metadata": {},
   "outputs": [],
   "source": [
    "logging.info(\"this is my info log\")"
   ]
  },
  {
   "cell_type": "code",
   "execution_count": 26,
   "id": "6431446b",
   "metadata": {},
   "outputs": [],
   "source": [
    "logging.shutdown()"
   ]
  },
  {
   "cell_type": "code",
   "execution_count": 33,
   "id": "b570cae4",
   "metadata": {},
   "outputs": [],
   "source": [
    "logging.basicConfig(filename=\"test.log\",level = logging.DEBUG, format = '%(asctime)s %(name)s %(levelname)s')"
   ]
  },
  {
   "cell_type": "code",
   "execution_count": 34,
   "id": "de34e738",
   "metadata": {},
   "outputs": [],
   "source": [
    "l= [1,3,2,4,56,[2,3,4,5,8],\"sudh\",\"kumar\"]"
   ]
  },
  {
   "cell_type": "code",
   "execution_count": 35,
   "id": "1546ede2",
   "metadata": {},
   "outputs": [],
   "source": [
    "l1_int = []\n",
    "l2_str =[]\n",
    "for i in l:\n",
    "    logging.info(\"thius is the start oif my first loop{}\".format(l))\n",
    "    logging.info(\"this is the value of i am loggging{}\".format(i))\n",
    "    if type(i)==list:\n",
    "        for j in i:\n",
    "            if type(j)==int:\n",
    "                l1_int.append(j)\n",
    "    elif type(i)==int:\n",
    "        l1_int.append(i)\n",
    "    else:\n",
    "        if type(i)==str:\n",
    "            l2_str.append(i)"
   ]
  },
  {
   "cell_type": "code",
   "execution_count": null,
   "id": "0bdc44dc",
   "metadata": {},
   "outputs": [],
   "source": []
  }
 ],
 "metadata": {
  "kernelspec": {
   "display_name": "Python 3 (ipykernel)",
   "language": "python",
   "name": "python3"
  },
  "language_info": {
   "codemirror_mode": {
    "name": "ipython",
    "version": 3
   },
   "file_extension": ".py",
   "mimetype": "text/x-python",
   "name": "python",
   "nbconvert_exporter": "python",
   "pygments_lexer": "ipython3",
   "version": "3.9.13"
  }
 },
 "nbformat": 4,
 "nbformat_minor": 5
}
